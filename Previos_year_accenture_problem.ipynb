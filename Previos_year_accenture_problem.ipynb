{
  "nbformat": 4,
  "nbformat_minor": 0,
  "metadata": {
    "colab": {
      "name": "Previos year accenture problem.ipynb",
      "provenance": [],
      "collapsed_sections": []
    },
    "kernelspec": {
      "display_name": "Python 3",
      "name": "python3"
    },
    "language_info": {
      "name": "python"
    },
    "accelerator": "GPU"
  },
  "cells": [
    {
      "cell_type": "markdown",
      "metadata": {
        "id": "Jzd0EVhEyrgr"
      },
      "source": [
        "Q.01 \n",
        "Implement the following Function \n",
        "\n",
        "def differenceofSum(n. m)\n",
        "\n",
        "The function accepts two integers n, m as arguments Find the sum of all numbers in range from 1 to m(both inclusive) that are not divisible by n. Return difference between sum of integers not divisible by n with sum of numbers divisible by n.\n",
        "\n",
        "Assumption:\n",
        "\n",
        "n>0 and m>0\n",
        "Sum lies between integral range\n",
        "Example\n",
        "\n",
        "Input\n",
        "n:4\n",
        "m:20\n",
        "Output\n",
        "90\n",
        "\n",
        "Explanation\n",
        "\n",
        "Sum of numbers divisible by 4 are 4 + 8 + 12 + 16 + 20 = 60\n",
        "Sum of numbers not divisible by 4 are 1 +2 + 3 + 5 + 6 + 7 + 9 + 10 + 11 + 13 + 14 + 15 + 17 + 18 + 19 = 150\n",
        "Difference 150 – 60 = 90\n",
        "Sample Input\n",
        "n:3\n",
        "m:10\n",
        "Sample Output\n",
        "19\n"
      ]
    },
    {
      "cell_type": "code",
      "metadata": {
        "colab": {
          "base_uri": "https://localhost:8080/"
        },
        "id": "Rtp214YuyiBf",
        "outputId": "4841ab20-3ef0-4f9f-ec44-32707e4e44d9"
      },
      "source": [
        "n = int(input())\n",
        "m = int(input())"
      ],
      "execution_count": null,
      "outputs": [
        {
          "output_type": "stream",
          "text": [
            "3\n",
            "27\n"
          ],
          "name": "stdout"
        }
      ]
    },
    {
      "cell_type": "code",
      "metadata": {
        "id": "xt8W2fCl5VV8"
      },
      "source": [
        "def differenceofSum(n,m):\n",
        "  sum1 = 0\n",
        "  sum2 = 0\n",
        "  for i in range(1,m+1):\n",
        "    if i%n==0:\n",
        "        sum1+=i\n",
        "    else:\n",
        "        sum2+=i\n",
        "  a = abs(sum1-sum2)\n",
        "  return a\n",
        "\n",
        "   \n",
        "  \n",
        "   "
      ],
      "execution_count": null,
      "outputs": []
    },
    {
      "cell_type": "code",
      "metadata": {
        "colab": {
          "base_uri": "https://localhost:8080/"
        },
        "id": "tJqXEE9SE3CE",
        "outputId": "d76672a9-d4f8-47b3-b9ac-5b62cb3d0d50"
      },
      "source": [
        "differenceofSum(2,10)"
      ],
      "execution_count": null,
      "outputs": [
        {
          "output_type": "execute_result",
          "data": {
            "text/plain": [
              "5"
            ]
          },
          "metadata": {
            "tags": []
          },
          "execution_count": 3
        }
      ]
    },
    {
      "cell_type": "markdown",
      "metadata": {
        "id": "E2P7PnqGDpUU"
      },
      "source": [
        "Q.02\n",
        "def LargeSmallSum(arr)\n",
        "\n",
        "The function accepts an integers arr of size ’length’ as its arguments you are required to return the sum of second largest largest element from the even positions and second smallest from the odd position of given ‘arr’\n",
        "\n",
        "Assumption:\n",
        "\n",
        "All array elements are unique\n",
        "Treat the 0th position a seven\n",
        "NOTE\n",
        "\n",
        "Return 0 if array is empty\n",
        "Return 0, if array length is 3 or less than 3\n",
        "Example\n",
        "\n",
        "Input\n",
        "\n",
        "arr:3 2 1 7 5 4\n",
        "\n",
        "Output\n",
        "\n",
        "7\n",
        "\n",
        "Explanation\n",
        "\n",
        "Second largest among even position elements(1 3 5) is 3\n",
        "Second largest among odd position element is 4\n",
        "Thus output is 3+4 = 7\n",
        "Sample Input\n",
        "\n",
        "arr:1 8 0 2 3 5 6\n",
        "\n",
        "Sample Output\n",
        "\n",
        "8"
      ]
    },
    {
      "cell_type": "code",
      "metadata": {
        "colab": {
          "base_uri": "https://localhost:8080/"
        },
        "id": "6R9G47ETbnni",
        "outputId": "c91ff39b-bf5c-46bd-ce67-75414cc06407"
      },
      "source": [
        "length = int(input())\n",
        "arr = list(map(int, input().split()))\n",
        "arr"
      ],
      "execution_count": null,
      "outputs": [
        {
          "output_type": "stream",
          "text": [
            "8\n",
            "5 4 8 6 2 4 8 6 \n"
          ],
          "name": "stdout"
        },
        {
          "output_type": "execute_result",
          "data": {
            "text/plain": [
              "[5, 4, 8, 6, 2, 4, 8, 6]"
            ]
          },
          "metadata": {
            "tags": []
          },
          "execution_count": 32
        }
      ]
    },
    {
      "cell_type": "code",
      "metadata": {
        "colab": {
          "base_uri": "https://localhost:8080/"
        },
        "id": "ZJ8bkfF9Aq7s",
        "outputId": "1bab39a3-1f8e-4733-83eb-11c34c1144db"
      },
      "source": [
        "#arr = [2,5,7,8,3,4,23,12]\n",
        "even_ar= []\n",
        "odd_ar = []\n",
        "for i in range(0,len(arr)):\n",
        "  if i%2==0:\n",
        "      even_ar.append(arr[i])\n",
        "  else:\n",
        "      odd_ar.append(arr[i])\n",
        "even_ar = sorted(even_ar)\n",
        "odd_ar = sorted(odd_ar)\n",
        "sum = even_ar[len(even_ar)-2] + odd_ar[len(odd_ar)-2]\n",
        "sum"
      ],
      "execution_count": null,
      "outputs": [
        {
          "output_type": "execute_result",
          "data": {
            "text/plain": [
              "8"
            ]
          },
          "metadata": {
            "tags": []
          },
          "execution_count": 29
        }
      ]
    },
    {
      "cell_type": "code",
      "metadata": {
        "colab": {
          "base_uri": "https://localhost:8080/"
        },
        "id": "r37dj_j4-wOJ",
        "outputId": "9f4eef58-aeea-4820-a61e-027ee419e83b"
      },
      "source": [
        "import array as arr  \n",
        "a = [2, 4, 6, 8] \n",
        "print(\"First element:\", a[0])  \n",
        "print(\"Second element:\", a[1])  \n",
        "print(\"Second last element:\", a[-1])  "
      ],
      "execution_count": null,
      "outputs": [
        {
          "output_type": "stream",
          "text": [
            "First element: 2\n",
            "Second element: 4\n",
            "Second last element: 8\n"
          ],
          "name": "stdout"
        }
      ]
    },
    {
      "cell_type": "markdown",
      "metadata": {
        "id": "jj3YQoBNyp5J"
      },
      "source": [
        "**Python program to print the elements of an array present on even position**"
      ]
    },
    {
      "cell_type": "code",
      "metadata": {
        "colab": {
          "background_save": true
        },
        "id": "5ojEQLmajG2z"
      },
      "source": [
        "# Programing for reversing a number\n",
        "def reversarr(arr):\n",
        "  \n",
        "  arr = [1,2,3,4,5,6]\n",
        "  for i in range(len(arr)-1,-1,-1):\n",
        "    arr1 = arr[i]\n",
        "    return(arr1)\n",
        "\n",
        "\n",
        "\n",
        "    \n"
      ],
      "execution_count": null,
      "outputs": []
    },
    {
      "cell_type": "code",
      "metadata": {
        "colab": {
          "base_uri": "https://localhost:8080/"
        },
        "id": "wbtXZfZXyJJN",
        "outputId": "5a558d26-5b5f-4914-c348-15caa29a4471"
      },
      "source": [
        "#arr = [1,2,3,5,6]\n",
        "reversarr(arr1)"
      ],
      "execution_count": null,
      "outputs": [
        {
          "output_type": "execute_result",
          "data": {
            "text/plain": [
              "6"
            ]
          },
          "metadata": {
            "tags": []
          },
          "execution_count": 64
        }
      ]
    },
    {
      "cell_type": "code",
      "metadata": {
        "colab": {
          "base_uri": "https://localhost:8080/"
        },
        "id": "OTmj93o3m3Z1",
        "outputId": "e55ceb8a-b67b-4fe8-d67d-9eb9f12acde9"
      },
      "source": [
        "#Python program to print the largest element in an array\n",
        "arr = [23,45,6,78,74,82,5,4,52]\n",
        "max = arr[0]\n",
        "\n",
        "for i in range(0,len(arr)):\n",
        "  if arr[i]>max :\n",
        "      max = arr[i]\n",
        "print(max)"
      ],
      "execution_count": null,
      "outputs": [
        {
          "output_type": "stream",
          "text": [
            "82\n"
          ],
          "name": "stdout"
        }
      ]
    },
    {
      "cell_type": "code",
      "metadata": {
        "colab": {
          "base_uri": "https://localhost:8080/"
        },
        "id": "hdk4WdZkoloQ",
        "outputId": "9d8aa923-a265-46e2-c2df-dc06d9ab9333"
      },
      "source": [
        "#Python program to print the smallest element in an array\n",
        "arr = [23,45,6,78,74,82,5,4,52]\n",
        "min = arr[0]\n",
        "\n",
        "for i in range(0,len(arr)):\n",
        "  if arr[i]<min :\n",
        "      min = arr[i]\n",
        "print(min)"
      ],
      "execution_count": null,
      "outputs": [
        {
          "output_type": "stream",
          "text": [
            "4\n"
          ],
          "name": "stdout"
        }
      ]
    },
    {
      "cell_type": "code",
      "metadata": {
        "colab": {
          "base_uri": "https://localhost:8080/"
        },
        "id": "CRsE9maKpCdn",
        "outputId": "394696ab-3f60-4b1a-81ea-10bde4bf2ef2"
      },
      "source": [
        "# copying all number from one array another array\n",
        "arr1 = [3,6,5,4,56,54,32]\n",
        "arr2 = [None]*len(arr1)\n",
        "for i in range(0,len(arr1)):\n",
        "    arr2[i] = arr1[i]\n",
        "print(arr2)\n",
        "print(arr1)\n",
        "\n"
      ],
      "execution_count": null,
      "outputs": [
        {
          "output_type": "stream",
          "text": [
            "[3, 6, 5, 4, 56, 54, 32]\n",
            "[3, 6, 5, 4, 56, 54, 32]\n"
          ],
          "name": "stdout"
        }
      ]
    },
    {
      "cell_type": "code",
      "metadata": {
        "colab": {
          "base_uri": "https://localhost:8080/"
        },
        "id": "P__zxdwF5XlR",
        "outputId": "6a165635-8604-4758-f641-4d3b90aee887"
      },
      "source": [
        "arr = [2,4,6,7,12,13,1]\n",
        "for i in range(0, len(arr)):    \n",
        "    for j in range(i+1, len(arr)):    \n",
        "        if(arr[i] > arr[j]):    \n",
        "            temp = arr[i];    \n",
        "            arr[i] = arr[j];    \n",
        "            arr[j] = temp;  \n",
        "print(arr[len(arr)-2])  "
      ],
      "execution_count": null,
      "outputs": [
        {
          "output_type": "stream",
          "text": [
            "12\n"
          ],
          "name": "stdout"
        }
      ]
    },
    {
      "cell_type": "code",
      "metadata": {
        "colab": {
          "base_uri": "https://localhost:8080/"
        },
        "id": "i_TwuA3C7J_C",
        "outputId": "a2cf579d-680a-4bc2-f21e-17bcab4a3272"
      },
      "source": [
        "# Descending Order\n",
        "arr = [2,4,6,7,12,13,1]\n",
        "for i in range(0, len(arr)):    \n",
        "    for j in range(i+1, len(arr)):    \n",
        "        if(arr[i] < arr[j]):    \n",
        "            temp = arr[i];    \n",
        "            arr[i] = arr[j];    \n",
        "            arr[j] = temp;  \n",
        "print(arr)"
      ],
      "execution_count": null,
      "outputs": [
        {
          "output_type": "stream",
          "text": [
            "[13, 12, 7, 6, 4, 2, 1]\n"
          ],
          "name": "stdout"
        }
      ]
    },
    {
      "cell_type": "code",
      "metadata": {
        "colab": {
          "base_uri": "https://localhost:8080/"
        },
        "id": "ZjjF_gwqW7nh",
        "outputId": "98e33fdd-35be-4118-fee3-7b611356e922"
      },
      "source": [
        "arr = [1,4,2]\n",
        "arr=sorted(arr)\n",
        "print(arr[len(arr)-2])"
      ],
      "execution_count": null,
      "outputs": [
        {
          "output_type": "stream",
          "text": [
            "2\n"
          ],
          "name": "stdout"
        }
      ]
    },
    {
      "cell_type": "markdown",
      "metadata": {
        "id": "iiT4wMgRyo1I"
      },
      "source": [
        "Q.03\n",
        "def ProductSmallestPair(sum, arr)\n",
        "\n",
        "The function accepts an integers sum and an integer array arr of size n. Implement the function to find the pair, (arr[j], arr[k]) where j!=k, Such that arr[j] and arr[k] are the least two elements of array (arr[j] + arr[k] <= sum) and return the product of element of this pair\n",
        "\n",
        "NOTE\n",
        "\n",
        "Return -1 if array is empty or if n<2\n",
        "Return 0, if no such pairs found\n",
        "All computed values lie within integer range\n",
        "Example\n",
        "\n",
        "Input\n",
        "\n",
        "sum:9\n",
        "\n",
        "Arr:5 2 4 3 9 7 1\n",
        "\n",
        "Output\n",
        "\n",
        "2\n",
        "\n",
        "Explanation\n",
        "\n",
        "Pair of least two element is (2, 1) 2 + 1 = 3 < 9, Product of (2, 1) 2*1 = 2. Thus, output is 2\n",
        "\n",
        "Sample Input\n",
        "\n",
        "sum:4\n",
        "\n",
        "Arr:9 8 3 -7 3 9\n",
        "\n",
        "Sample Output\n",
        "\n",
        "-21\n"
      ]
    },
    {
      "cell_type": "code",
      "metadata": {
        "colab": {
          "base_uri": "https://localhost:8080/"
        },
        "id": "nFN_bQIfYN7b",
        "outputId": "5c3fc60f-15b0-428f-ab18-773ef1488beb"
      },
      "source": [
        "#n = int(input())\n",
        "sum = int(input())\n",
        "arr = list(map(int, input().split()))\n",
        "#arr = [5,2,4,3,9,7,1]\n",
        "a = sorted(arr)\n",
        "if len(arr)==1:\n",
        "    print(0) \n",
        "elif len(arr)==0:\n",
        "    print(-1)\n",
        "elif a[0]+a[1] < sum:\n",
        "   print(a[0]*a[1])"
      ],
      "execution_count": null,
      "outputs": [
        {
          "output_type": "stream",
          "text": [
            "8\n",
            "2 5 3\n",
            "6\n"
          ],
          "name": "stdout"
        }
      ]
    },
    {
      "cell_type": "code",
      "metadata": {
        "colab": {
          "base_uri": "https://localhost:8080/"
        },
        "id": "w5pzEp1IdT-F",
        "outputId": "20f986a8-59c9-481a-c4d9-c236e81b3d47"
      },
      "source": [
        "n = int(input())\n",
        "sum1 = int(input())\n",
        "arr = list(map(int, input().split()))\n",
        "if n < 2:\n",
        "    print('-1')\n",
        "arr = sorted(arr)\n",
        "for i in range(n-1):\n",
        "    if arr[i] + arr[i+1] < sum1:\n",
        "        print(arr[i] * arr[i+1])\n",
        "        break\n",
        "else:\n",
        "    print('0')"
      ],
      "execution_count": null,
      "outputs": [
        {
          "output_type": "stream",
          "text": [
            "0\n",
            "5\n",
            "\n",
            "-1\n",
            "0\n"
          ],
          "name": "stdout"
        }
      ]
    },
    {
      "cell_type": "code",
      "metadata": {
        "id": "kfGyhBHfiOwJ",
        "colab": {
          "base_uri": "https://localhost:8080/"
        },
        "outputId": "6fb5224e-a78d-4ff1-851c-f12385200af4"
      },
      "source": [
        "X = [[1,2,3],  \n",
        "       [4,5,6],  \n",
        "       [7,8,9]]  \n",
        "  \n",
        "Y = [[10,11,12],  \n",
        "       [13,14,15],  \n",
        "       [16,17,18]]  \n",
        "X[1][2]*Y[1][1]"
      ],
      "execution_count": null,
      "outputs": [
        {
          "output_type": "execute_result",
          "data": {
            "text/plain": [
              "84"
            ]
          },
          "metadata": {
            "tags": []
          },
          "execution_count": 5
        }
      ]
    },
    {
      "cell_type": "code",
      "metadata": {
        "colab": {
          "base_uri": "https://localhost:8080/"
        },
        "id": "d2zx8Asn4WQ3",
        "outputId": "00d18c2b-481d-4fed-cc02-d2c0a312871d"
      },
      "source": [
        "for i in range(100000,100999):\n",
        "  if i%9127==0:\n",
        "    print(i)"
      ],
      "execution_count": null,
      "outputs": [
        {
          "output_type": "stream",
          "text": [
            "100397\n"
          ],
          "name": "stdout"
        }
      ]
    },
    {
      "cell_type": "code",
      "metadata": {
        "colab": {
          "base_uri": "https://localhost:8080/"
        },
        "id": "r_8FCvQe8CEM",
        "outputId": "1cff1775-c671-47f7-a5f4-724359b908a7"
      },
      "source": [
        "31415**0.5"
      ],
      "execution_count": null,
      "outputs": [
        {
          "output_type": "execute_result",
          "data": {
            "text/plain": [
              "177.2427713617681"
            ]
          },
          "metadata": {
            "tags": []
          },
          "execution_count": 3
        }
      ]
    },
    {
      "cell_type": "code",
      "metadata": {
        "colab": {
          "base_uri": "https://localhost:8080/"
        },
        "id": "QT1JtRtV8RQc",
        "outputId": "03991108-535e-42d7-cdf1-003cb727521e"
      },
      "source": [
        "177.242771**2"
      ],
      "execution_count": null,
      "outputs": [
        {
          "output_type": "execute_result",
          "data": {
            "text/plain": [
              "31414.999871758442"
            ]
          },
          "metadata": {
            "tags": []
          },
          "execution_count": 4
        }
      ]
    },
    {
      "cell_type": "code",
      "metadata": {
        "colab": {
          "base_uri": "https://localhost:8080/"
        },
        "id": "IPgj7dWo8XTl",
        "outputId": "c93a2e44-3897-4444-bb4b-adbf6b110e19"
      },
      "source": [
        "177.243**2"
      ],
      "execution_count": null,
      "outputs": [
        {
          "output_type": "execute_result",
          "data": {
            "text/plain": [
              "31415.081048999997"
            ]
          },
          "metadata": {
            "tags": []
          },
          "execution_count": 5
        }
      ]
    },
    {
      "cell_type": "code",
      "metadata": {
        "id": "xLji8sWo8XRs"
      },
      "source": [
        "177243"
      ],
      "execution_count": null,
      "outputs": []
    },
    {
      "cell_type": "code",
      "metadata": {
        "colab": {
          "base_uri": "https://localhost:8080/"
        },
        "id": "cbjEI_n_wQft",
        "outputId": "fb322462-cb27-496a-bb63-af0b6eac76dd"
      },
      "source": [
        "import itertools as it\n",
        "\n",
        "def is_solution(perm):\n",
        "    for (i1, i2) in it.combinations(range(len(perm)), 2):\n",
        "        if abs(i1 - i2) == abs(perm[i1] - perm[i2]):\n",
        "            return False\n",
        "\n",
        "    return True\n",
        "\n",
        "for perm in it.permutations(range(8)):\n",
        "    if is_solution(perm):\n",
        "        print(perm)\n",
        "        exit()"
      ],
      "execution_count": null,
      "outputs": [
        {
          "output_type": "stream",
          "text": [
            "(0, 4, 7, 5, 2, 6, 1, 3)\n",
            "(0, 5, 7, 2, 6, 3, 1, 4)\n",
            "(0, 6, 3, 5, 7, 1, 4, 2)\n",
            "(0, 6, 4, 7, 1, 3, 5, 2)\n",
            "(1, 3, 5, 7, 2, 0, 6, 4)\n",
            "(1, 4, 6, 0, 2, 7, 5, 3)\n",
            "(1, 4, 6, 3, 0, 7, 5, 2)\n",
            "(1, 5, 0, 6, 3, 7, 2, 4)\n",
            "(1, 5, 7, 2, 0, 3, 6, 4)\n",
            "(1, 6, 2, 5, 7, 4, 0, 3)\n",
            "(1, 6, 4, 7, 0, 3, 5, 2)\n",
            "(1, 7, 5, 0, 2, 4, 6, 3)\n",
            "(2, 0, 6, 4, 7, 1, 3, 5)\n",
            "(2, 4, 1, 7, 0, 6, 3, 5)\n",
            "(2, 4, 1, 7, 5, 3, 6, 0)\n",
            "(2, 4, 6, 0, 3, 1, 7, 5)\n",
            "(2, 4, 7, 3, 0, 6, 1, 5)\n",
            "(2, 5, 1, 4, 7, 0, 6, 3)\n",
            "(2, 5, 1, 6, 0, 3, 7, 4)\n",
            "(2, 5, 1, 6, 4, 0, 7, 3)\n",
            "(2, 5, 3, 0, 7, 4, 6, 1)\n",
            "(2, 5, 3, 1, 7, 4, 6, 0)\n",
            "(2, 5, 7, 0, 3, 6, 4, 1)\n",
            "(2, 5, 7, 0, 4, 6, 1, 3)\n",
            "(2, 5, 7, 1, 3, 0, 6, 4)\n",
            "(2, 6, 1, 7, 4, 0, 3, 5)\n",
            "(2, 6, 1, 7, 5, 3, 0, 4)\n",
            "(2, 7, 3, 6, 0, 5, 1, 4)\n",
            "(3, 0, 4, 7, 1, 6, 2, 5)\n",
            "(3, 0, 4, 7, 5, 2, 6, 1)\n",
            "(3, 1, 4, 7, 5, 0, 2, 6)\n",
            "(3, 1, 6, 2, 5, 7, 0, 4)\n",
            "(3, 1, 6, 2, 5, 7, 4, 0)\n",
            "(3, 1, 6, 4, 0, 7, 5, 2)\n",
            "(3, 1, 7, 4, 6, 0, 2, 5)\n",
            "(3, 1, 7, 5, 0, 2, 4, 6)\n",
            "(3, 5, 0, 4, 1, 7, 2, 6)\n",
            "(3, 5, 7, 1, 6, 0, 2, 4)\n",
            "(3, 5, 7, 2, 0, 6, 4, 1)\n",
            "(3, 6, 0, 7, 4, 1, 5, 2)\n",
            "(3, 6, 2, 7, 1, 4, 0, 5)\n",
            "(3, 6, 4, 1, 5, 0, 2, 7)\n",
            "(3, 6, 4, 2, 0, 5, 7, 1)\n",
            "(3, 7, 0, 2, 5, 1, 6, 4)\n",
            "(3, 7, 0, 4, 6, 1, 5, 2)\n",
            "(3, 7, 4, 2, 0, 6, 1, 5)\n",
            "(4, 0, 3, 5, 7, 1, 6, 2)\n",
            "(4, 0, 7, 3, 1, 6, 2, 5)\n",
            "(4, 0, 7, 5, 2, 6, 1, 3)\n",
            "(4, 1, 3, 5, 7, 2, 0, 6)\n",
            "(4, 1, 3, 6, 2, 7, 5, 0)\n",
            "(4, 1, 5, 0, 6, 3, 7, 2)\n",
            "(4, 1, 7, 0, 3, 6, 2, 5)\n",
            "(4, 2, 0, 5, 7, 1, 3, 6)\n",
            "(4, 2, 0, 6, 1, 7, 5, 3)\n",
            "(4, 2, 7, 3, 6, 0, 5, 1)\n",
            "(4, 6, 0, 2, 7, 5, 3, 1)\n",
            "(4, 6, 0, 3, 1, 7, 5, 2)\n",
            "(4, 6, 1, 3, 7, 0, 2, 5)\n",
            "(4, 6, 1, 5, 2, 0, 3, 7)\n",
            "(4, 6, 1, 5, 2, 0, 7, 3)\n",
            "(4, 6, 3, 0, 2, 7, 5, 1)\n",
            "(4, 7, 3, 0, 2, 5, 1, 6)\n",
            "(4, 7, 3, 0, 6, 1, 5, 2)\n",
            "(5, 0, 4, 1, 7, 2, 6, 3)\n",
            "(5, 1, 6, 0, 2, 4, 7, 3)\n",
            "(5, 1, 6, 0, 3, 7, 4, 2)\n",
            "(5, 2, 0, 6, 4, 7, 1, 3)\n",
            "(5, 2, 0, 7, 3, 1, 6, 4)\n",
            "(5, 2, 0, 7, 4, 1, 3, 6)\n",
            "(5, 2, 4, 6, 0, 3, 1, 7)\n",
            "(5, 2, 4, 7, 0, 3, 1, 6)\n",
            "(5, 2, 6, 1, 3, 7, 0, 4)\n",
            "(5, 2, 6, 1, 7, 4, 0, 3)\n",
            "(5, 2, 6, 3, 0, 7, 1, 4)\n",
            "(5, 3, 0, 4, 7, 1, 6, 2)\n",
            "(5, 3, 1, 7, 4, 6, 0, 2)\n",
            "(5, 3, 6, 0, 2, 4, 1, 7)\n",
            "(5, 3, 6, 0, 7, 1, 4, 2)\n",
            "(5, 7, 1, 3, 0, 6, 4, 2)\n",
            "(6, 0, 2, 7, 5, 3, 1, 4)\n",
            "(6, 1, 3, 0, 7, 4, 2, 5)\n",
            "(6, 1, 5, 2, 0, 3, 7, 4)\n",
            "(6, 2, 0, 5, 7, 4, 1, 3)\n",
            "(6, 2, 7, 1, 4, 0, 5, 3)\n",
            "(6, 3, 1, 4, 7, 0, 2, 5)\n",
            "(6, 3, 1, 7, 5, 0, 2, 4)\n",
            "(6, 4, 2, 0, 5, 7, 1, 3)\n",
            "(7, 1, 3, 0, 6, 4, 2, 5)\n",
            "(7, 1, 4, 2, 0, 6, 3, 5)\n",
            "(7, 2, 0, 5, 1, 4, 6, 3)\n",
            "(7, 3, 0, 2, 5, 1, 6, 4)\n"
          ],
          "name": "stdout"
        }
      ]
    },
    {
      "cell_type": "markdown",
      "metadata": {
        "id": "1Ng_ViF2zW7b"
      },
      "source": [
        "N Queens: Backtracking: Code"
      ]
    },
    {
      "cell_type": "code",
      "metadata": {
        "colab": {
          "base_uri": "https://localhost:8080/"
        },
        "id": "lTnY_FyJxYEo",
        "outputId": "150661ce-82aa-4fec-fca1-5141a82f7aee"
      },
      "source": [
        "#Generating all puzzle\n",
        "def can_be_extended_to_solution(perm):\n",
        "    i = len(perm) - 1\n",
        "    for j in range(i):\n",
        "        if i - j == abs(perm[i] - perm[j]):\n",
        "            return False\n",
        "    return True\n",
        "\n",
        "def extend(perm, n):\n",
        "    if len(perm) == n:\n",
        "        print(perm)\n",
        "        exit()\n",
        "\n",
        "    for k in range(n):\n",
        "        if k not in perm:\n",
        "            perm.append(k)\n",
        "\n",
        "            if can_be_extended_to_solution(perm):\n",
        "                extend(perm, n)\n",
        "\n",
        "            perm.pop()\n",
        "extend(perm = [], n = 4)"
      ],
      "execution_count": null,
      "outputs": [
        {
          "output_type": "stream",
          "text": [
            "[1, 3, 0, 2]\n",
            "[2, 0, 3, 1]\n"
          ],
          "name": "stdout"
        }
      ]
    },
    {
      "cell_type": "code",
      "metadata": {
        "id": "sKJWOUmD3s65"
      },
      "source": [
        "def sum(a,b):\n",
        "  c = int(a) + int(b)\n",
        "  return c"
      ],
      "execution_count": null,
      "outputs": []
    },
    {
      "cell_type": "code",
      "metadata": {
        "colab": {
          "base_uri": "https://localhost:8080/"
        },
        "id": "bLcrGi0G3964",
        "outputId": "c568ede0-8adb-4a54-ac9b-861712dd6487"
      },
      "source": [
        "sum(87,93)"
      ],
      "execution_count": null,
      "outputs": [
        {
          "output_type": "execute_result",
          "data": {
            "text/plain": [
              "180"
            ]
          },
          "metadata": {
            "tags": []
          },
          "execution_count": 3
        }
      ]
    },
    {
      "cell_type": "markdown",
      "metadata": {
        "id": "0vcBF_AdGAtY"
      },
      "source": [
        "Maximum Pair Product\n"
      ]
    },
    {
      "cell_type": "code",
      "metadata": {
        "colab": {
          "base_uri": "https://localhost:8080/"
        },
        "id": "FBQ9vp9RFIxe",
        "outputId": "c29648c0-6c16-42b5-891d-42eafc655e21"
      },
      "source": [
        "arr = [1,4,6,2,4,5,12]\n",
        "a = sorted(arr)\n",
        "print(a[len(arr)-1]*a[len(arr)-2])"
      ],
      "execution_count": null,
      "outputs": [
        {
          "output_type": "stream",
          "text": [
            "72\n"
          ],
          "name": "stdout"
        }
      ]
    },
    {
      "cell_type": "markdown",
      "metadata": {
        "id": "4llQm6UWh5Kw"
      },
      "source": [
        "Q.04\n",
        "N-base notation is a system for writing numbers which uses only n different symbols, This symbols are the first n symbols from the given notation list(Including the symbol for o) Decimal to n base notation are (0:0, 1:1, 2:2, 3:3, 4:4, 5:5, 6:6, 7:7, 8:8, 9:9, 10:A,11:B and so on upto 35:Z)\n",
        "\n",
        "Implement the following function\n",
        "\n",
        "Char* DectoNBase(int n, int num):\n",
        "\n",
        "The function accept positive integer n and num Implement the function to calculate the n-base equivalent of num and return the same as a string\n",
        "\n",
        "Steps:\n",
        "\n",
        "Divide the decimal number by n,Treat the division as the integer division\n",
        "Write the the remainder (in  n-base notation)\n",
        "Divide the quotient again by n, Treat the division as integer division\n",
        "Repeat step 2 and 3 until the quotient is 0\n",
        "The n-base value is the sequence of the remainders from last to first\n",
        "Assumption:\n",
        "\n",
        "1 < n < = 36\n",
        "\n",
        "Example\n",
        "\n",
        "Input\n",
        "\n",
        "n: 12\n",
        "\n",
        "num: 718\n",
        "\n",
        "Output\n",
        "\n",
        "4BA\n",
        "\n",
        "![image.png](data:image/png;base64,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)\n",
        "\n",
        "\n",
        "Sample Input\n",
        "\n",
        "n: 21\n",
        "\n",
        "num: 5678\n",
        "\n",
        "Sample Output\n",
        "\n",
        "CI8"
      ]
    },
    {
      "cell_type": "code",
      "metadata": {
        "id": "pzvM5nb9GQte",
        "colab": {
          "base_uri": "https://localhost:8080/"
        },
        "outputId": "db865699-d9c2-47e6-d59f-4623ecb6ea6b"
      },
      "source": [
        "n = int(input())\n",
        "num = int(input())\n",
        "reminder = []\n",
        "quotient = num//n\n",
        "reminder.append(num%n)\n",
        "while (quotient!=0):\n",
        "  reminder.append(quotient%n)\n",
        "  quotient= quotient//n\n",
        "reminder = reversed(reminder)\n",
        "result = ''\n",
        "for i in reminder:\n",
        "  if i>9:\n",
        "    a = i-9\n",
        "    a = 64 +a\n",
        "    result+=chr(a)\n",
        "  else:\n",
        "    result+=str(i)\n",
        "print(result)\n",
        "\n",
        "\n",
        "\n"
      ],
      "execution_count": null,
      "outputs": [
        {
          "output_type": "stream",
          "text": [
            "12\n",
            "718\n",
            "4BA\n"
          ],
          "name": "stdout"
        }
      ]
    },
    {
      "cell_type": "markdown",
      "metadata": {
        "id": "o3eMDhm4WK8P"
      },
      "source": [
        "Question:5\n",
        "Implement the following functions.a\n",
        "\n",
        "char*MoveHyphen(char str[],int n);\n",
        "\n",
        "The function accepts a string “str” of length ‘n’, that contains alphabets and hyphens (-). Implement the function to move all hyphens(.) in the string to the front of the given string.\n",
        "\n",
        "NOTE:- Return null if str is null.\n",
        "\n",
        "Example :-\n",
        "\n",
        "Input:\n",
        "str.Move-Hyphens-to-Front\n",
        "Output:\n",
        "-MoveHyphenstoFront\n",
        "Explanation:-\n",
        "\n",
        "The string “Move-Hyphens -to-front” has 3 hyphens (.), which are moved to the front of the string, this output is “— MoveHyphen”\n",
        "\n",
        "Sample Input\n",
        "\n",
        "Str: String-Compare\n",
        "Sample Output-\n",
        "\n",
        "-StringCompare"
      ]
    },
    {
      "cell_type": "code",
      "metadata": {
        "colab": {
          "base_uri": "https://localhost:8080/"
        },
        "id": "YM4et33zUwE1",
        "outputId": "6dcbe55d-fe68-4b08-f81c-d9e011420d7d"
      },
      "source": [
        "sen = input()\n",
        "count = 0\n",
        "result= \"\"\n",
        "for i in sen:\n",
        "  if (i==\"-\"): \n",
        "    count+=1\n",
        "  else:\n",
        "    result+=i\n",
        "print(\"-\"*count,result)"
      ],
      "execution_count": null,
      "outputs": [
        {
          "output_type": "stream",
          "text": [
            "move-hyphens-to-front\n",
            "--- movehyphenstofront\n"
          ],
          "name": "stdout"
        }
      ]
    },
    {
      "cell_type": "markdown",
      "metadata": {
        "id": "rX9XUjTyWbHt"
      },
      "source": [
        "Question:7\n",
        "Problem Statement\n",
        "\n",
        "You are given a function,\n",
        "\n",
        "Void *ReplaceCharacter(Char str[], int n, char ch1, char ch2);\n",
        "\n",
        "The function accepts a string  ‘ str’ of length n and two characters ‘ch1’ and ‘ch2’ as its arguments . Implement the function to modify and return the string ‘ str’ in such a way that all occurrences of ‘ch1’ in original string are replaced by ‘ch2’ and all occurrences of ‘ch2’  in original string are replaced by ‘ch1’.\n",
        "\n",
        "Assumption: String Contains only lower-case alphabetical letters.\n",
        "\n",
        "Note:\n",
        "\n",
        "Return null if string is null.\n",
        "If both characters are not present in string or both of them are same , then return the string unchanged.\n",
        "Example:\n",
        "\n",
        "Input:\n",
        "Str: apples\n",
        "ch1:a\n",
        "ch2:p\n",
        "Output:\n",
        "Paales\n",
        "Explanation:\n",
        "\n",
        "‘A’ in original string is replaced with ‘p’ and ‘p’ in original string is replaced with ‘a’, thus output is paales."
      ]
    },
    {
      "cell_type": "code",
      "metadata": {
        "colab": {
          "base_uri": "https://localhost:8080/"
        },
        "id": "aEWTOai-Ll_p",
        "outputId": "6fe7acf5-5ce7-4264-f922-3726c573444e"
      },
      "source": [
        "def swap (user_input, str1, str2):\n",
        "\n",
        "    result = ''\n",
        "\n",
        "    if user_input != None:\n",
        "\n",
        "        result = user_input.replace(str1, '*').replace(str2, str1).replace('*', str2)\n",
        "\n",
        "        return result\n",
        "\n",
        "    return 'Null'\n",
        "\n",
        "user_input = input()\n",
        "\n",
        "str1, str2 = map(str,input().split())\n",
        "\n",
        "print(swap(user_input, str1, str2))"
      ],
      "execution_count": null,
      "outputs": [
        {
          "output_type": "stream",
          "text": [
            "apple\n",
            "a b\n",
            "bpple\n"
          ],
          "name": "stdout"
        }
      ]
    },
    {
      "cell_type": "code",
      "metadata": {
        "colab": {
          "base_uri": "https://localhost:8080/"
        },
        "id": "4oZzgpxAqG7H",
        "outputId": "b256266e-ff04-4700-a3c8-30c4bccbe925"
      },
      "source": [
        "7//2\n"
      ],
      "execution_count": null,
      "outputs": [
        {
          "output_type": "execute_result",
          "data": {
            "text/plain": [
              "3"
            ]
          },
          "metadata": {
            "tags": []
          },
          "execution_count": 50
        }
      ]
    },
    {
      "cell_type": "code",
      "metadata": {
        "id": "4CxrN9zuFKIZ"
      },
      "source": [
        "def OperationChoices(c,a,b):\n",
        "  if c==1:\n",
        "    return(int(a)+int(b))\n",
        "  elif c==2:\n",
        "    return(int(a)-int(b))\n",
        "  elif c==3:\n",
        "    return(int(a)*int(b))\n",
        "  elif c==4:\n",
        "    return(int(a)//int(b))"
      ],
      "execution_count": null,
      "outputs": []
    },
    {
      "cell_type": "code",
      "metadata": {
        "colab": {
          "base_uri": "https://localhost:8080/"
        },
        "id": "jDsGRgqmGxHW",
        "outputId": "ac992470-02d5-471a-f8aa-f041d5b3c723"
      },
      "source": [
        "c,a,b = map(int,input().split())\n",
        "OperationChoices(c,a,b)"
      ],
      "execution_count": null,
      "outputs": [
        {
          "output_type": "stream",
          "text": [
            "2 16 20\n"
          ],
          "name": "stdout"
        },
        {
          "output_type": "execute_result",
          "data": {
            "text/plain": [
              "-4"
            ]
          },
          "metadata": {
            "tags": []
          },
          "execution_count": 61
        }
      ]
    },
    {
      "cell_type": "markdown",
      "metadata": {
        "id": "yL1y6sCmgR7J"
      },
      "source": [
        "Problem Statement \n",
        "\n",
        "You are required to input the size of the matrix then the elements of matrix, then you have to divide the main matrix in two sub matrices (even and odd) in such a way that element at 0 index will be considered as even and element at 1st index will be considered as odd and so on. then you have sort the even and odd matrices in ascending order then print the sum of second largest number from both the matrices\n",
        "\n",
        "Example\n",
        "\n",
        "enter the size of array : 5\n",
        "\n",
        "enter element at 0 index : 3\n",
        "\n",
        "enter element at 1 index : 4\n",
        "\n",
        "enter element at 2 index : 1\n",
        "\n",
        "enter element at 3 index : 7\n",
        "\n",
        "enter element at 4 index : 9\n",
        "\n",
        "Sorted even array : 1 3 9\n",
        "Sorted odd array : 4 7\n",
        "\n",
        "10"
      ]
    },
    {
      "cell_type": "code",
      "metadata": {
        "colab": {
          "base_uri": "https://localhost:8080/"
        },
        "id": "nz4G_VAOgdnW",
        "outputId": "842caa8f-bb37-4415-c9ea-7eb4bddf10c8"
      },
      "source": [
        "l = int(input())\n",
        "arn =[]\n",
        "even= []\n",
        "odd=[]\n",
        "for i in range(0,l):\n",
        "  arn= [int(input('Enter element at {} index:'.format(i)))]\n",
        "  if i%2==0:\n",
        "     even.append(arn[0])\n",
        "  else:\n",
        "     odd.append(arn[0])\n",
        "even = sorted(even)\n",
        "odd = sorted(odd)\n",
        "print('Sorted even array : {} Sorted odd array :{}'.format(even,odd)\n",
        "print(even[1]+odd[1])\n"
      ],
      "execution_count": null,
      "outputs": [
        {
          "output_type": "stream",
          "text": [
            "7\n",
            "Enter element at 0 index:2\n",
            "Enter element at 1 index:3\n",
            "Enter element at 2 index:5\n",
            "Enter element at 3 index:4\n",
            "Enter element at 4 index:6\n",
            "Enter element at 5 index:7\n",
            "Enter element at 6 index:9\n",
            "Sorted even array : [2, 5, 6, 9] Sorted odd array :[3, 4, 7]\n",
            "9\n"
          ],
          "name": "stdout"
        }
      ]
    },
    {
      "cell_type": "code",
      "metadata": {
        "colab": {
          "base_uri": "https://localhost:8080/"
        },
        "id": "tmXvH6tbrsup",
        "outputId": "1182c6bc-b69e-4cba-f5ff-b7a584920c26"
      },
      "source": [
        "array = []\n",
        "evenArr = []\n",
        "oddArr = []\n",
        "n = int(input(\"Enter the size of the array:\"))\n",
        "for i in range(0,n):\n",
        "    number = int(input(\"Enter Element at {} index:\".format(i)))\n",
        "    array.append(number)\n",
        "    if i % 2 == 0:\n",
        "        evenArr.append(array[i])\n",
        "    else:\n",
        "        oddArr.append(array[i])\n",
        "\n",
        "evenArr = sorted(evenArr)\n",
        "print(\"Sorted Even Array:\", evenArr[0:len(evenArr)])\n",
        "oddArr = sorted(oddArr)\n",
        "print(\"Sorted Odd Array:\", oddArr[0:len(oddArr)])\n",
        "print(evenArr[1] + oddArr[1])"
      ],
      "execution_count": null,
      "outputs": [
        {
          "output_type": "stream",
          "text": [
            "Enter the size of the array:7\n",
            "Enter Element at 0 index:2\n",
            "Enter Element at 1 index:3\n",
            "Enter Element at 2 index:5\n",
            "Enter Element at 3 index:4\n",
            "Enter Element at 4 index:6\n",
            "Enter Element at 5 index:7\n",
            "Enter Element at 6 index:9\n",
            "Sorted Even Array: [2, 5, 6, 9]\n",
            "Sorted Odd Array: [3, 4, 7]\n",
            "9\n"
          ],
          "name": "stdout"
        }
      ]
    },
    {
      "cell_type": "code",
      "metadata": {
        "colab": {
          "base_uri": "https://localhost:8080/"
        },
        "id": "BFl2XO5alqiJ",
        "outputId": "d2bb3de4-6316-436a-cfee-90cd05e0fffa"
      },
      "source": [
        "tbl = int(input())\n",
        "sum=0\n",
        "for i in range(1,11):\n",
        "  sum = sum + tbl*i\n",
        "  print(tbl*i,end=' ')\n",
        "print()\n",
        "\n",
        "print(sum)\n"
      ],
      "execution_count": null,
      "outputs": [
        {
          "output_type": "stream",
          "text": [
            "12\n",
            "12 24 36 48 60 72 84 96 108 120 \n",
            "660\n"
          ],
          "name": "stdout"
        }
      ]
    },
    {
      "cell_type": "code",
      "metadata": {
        "id": "qfONnLuYvJNa"
      },
      "source": [
        "palid_n = int(input())\n",
        "for i in range(1,11)"
      ],
      "execution_count": null,
      "outputs": []
    },
    {
      "cell_type": "code",
      "metadata": {
        "id": "fkW9F836L1Bs"
      },
      "source": [
        "# Define a function for counting a exponent of 2 in given number\n",
        "def countExponents(i):\n",
        "  count = 0\n",
        "  while i%2==0 and i!=0:\n",
        "    i = i//2\n",
        "    count+=1\n",
        "  return count"
      ],
      "execution_count": null,
      "outputs": []
    },
    {
      "cell_type": "code",
      "metadata": {
        "colab": {
          "base_uri": "https://localhost:8080/"
        },
        "id": "ezJgooNOMQgg",
        "outputId": "6afd4e4b-bdc0-441b-85a4-375cc99f8222"
      },
      "source": [
        "countExponents(7)"
      ],
      "execution_count": null,
      "outputs": [
        {
          "output_type": "execute_result",
          "data": {
            "text/plain": [
              "0"
            ]
          },
          "metadata": {
            "tags": []
          },
          "execution_count": 65
        }
      ]
    },
    {
      "cell_type": "code",
      "metadata": {
        "colab": {
          "base_uri": "https://localhost:8080/"
        },
        "id": "Gb-xi6oeNg48",
        "outputId": "a5c98eae-c4a9-4c4e-e31e-33e60e5fdd61"
      },
      "source": [
        "def maxExponents(a,b):\n",
        "  max = 0\n",
        "  number = a\n",
        "  for i in range(a,b):\n",
        "    temp = countExponents(i)\n",
        "    if temp> max:\n",
        "       max = temp\n",
        "       num = i\n",
        "       return num\n",
        "a,b = map(int,input().split())\n",
        "maxExponents(a,b)\n"
      ],
      "execution_count": null,
      "outputs": [
        {
          "output_type": "stream",
          "text": [
            "10 50\n"
          ],
          "name": "stdout"
        },
        {
          "output_type": "execute_result",
          "data": {
            "text/plain": [
              "10"
            ]
          },
          "metadata": {
            "tags": []
          },
          "execution_count": 68
        }
      ]
    },
    {
      "cell_type": "markdown",
      "metadata": {
        "id": "wLpqP2P3Qbp6"
      },
      "source": [
        ""
      ]
    },
    {
      "cell_type": "code",
      "metadata": {
        "id": "Ng3FQOfphVBS"
      },
      "source": [
        "a = [1, 2, 3]\n",
        "b = [3, 2, 1]\n",
        "b,a = a,b"
      ],
      "execution_count": null,
      "outputs": []
    },
    {
      "cell_type": "code",
      "metadata": {
        "id": "fP0SzQ1S2taw"
      },
      "source": [
        ""
      ],
      "execution_count": null,
      "outputs": []
    },
    {
      "cell_type": "code",
      "metadata": {
        "colab": {
          "base_uri": "https://localhost:8080/"
        },
        "id": "Kx9G5V3GhahM",
        "outputId": "cb68b647-c361-4723-ade9-e6640bc975a8"
      },
      "source": [
        "a,b\n"
      ],
      "execution_count": null,
      "outputs": [
        {
          "output_type": "execute_result",
          "data": {
            "text/plain": [
              "([3, 2, 1], [1, 2, 3])"
            ]
          },
          "metadata": {
            "tags": []
          },
          "execution_count": 3
        }
      ]
    },
    {
      "cell_type": "code",
      "metadata": {
        "colab": {
          "base_uri": "https://localhost:8080/"
        },
        "id": "AjiptNNbQa7_",
        "outputId": "2c353b1b-5a86-48c4-9033-5a19cbdc365f"
      },
      "source": [
        "def Calculate(m,n):\n",
        "  sum = 0\n",
        "  for i in range(m,n+1):\n",
        "    if i%3==0 and i%5==0:\n",
        "      sum = sum + i\n",
        "  print(sum)\n",
        "  \n",
        "      \n",
        "m,n = map(int,input().split())\n",
        "Calculate(m,n)\n"
      ],
      "execution_count": null,
      "outputs": [
        {
          "output_type": "stream",
          "text": [
            "100 160\n",
            "510\n"
          ],
          "name": "stdout"
        }
      ]
    },
    {
      "cell_type": "code",
      "metadata": {
        "colab": {
          "base_uri": "https://localhost:8080/"
        },
        "id": "ZN06jxwyaGob",
        "outputId": "170c102d-0cb5-498b-aaf3-e6e4f63c44a3"
      },
      "source": [
        "def calculate(m,n):\n",
        "    sum = 0\n",
        "    for i in range(m,n+1,1):\n",
        "        if i%3 == 0 and i%5 == 0:\n",
        "            sum = sum + i\n",
        "    print(sum)\n",
        "\n",
        "calculate(100,160)"
      ],
      "execution_count": null,
      "outputs": [
        {
          "output_type": "stream",
          "text": [
            "510\n"
          ],
          "name": "stdout"
        }
      ]
    },
    {
      "cell_type": "code",
      "metadata": {
        "colab": {
          "base_uri": "https://localhost:8080/"
        },
        "id": "Kl-jCsMyeHtS",
        "outputId": "51a566e1-b9a2-4bed-a375-77153ab9f6ca"
      },
      "source": [
        "def febinacci(a):\n",
        "  sum = 0\n",
        "  for i in range(0,a):\n",
        "    sum= sum+i\n",
        "    print(sum)\n",
        "a = int(input())\n"
      ],
      "execution_count": null,
      "outputs": [
        {
          "output_type": "stream",
          "text": [
            "4\n",
            "0\n",
            "1\n",
            "3\n",
            "6\n"
          ],
          "name": "stdout"
        }
      ]
    },
    {
      "cell_type": "code",
      "metadata": {
        "id": "-zSq1BLEMIlR"
      },
      "source": [
        "a = input()\n",
        "b= a.lower\n"
      ],
      "execution_count": null,
      "outputs": []
    },
    {
      "cell_type": "code",
      "metadata": {
        "colab": {
          "base_uri": "https://localhost:8080/"
        },
        "id": "PhEIjXJ1RFrR",
        "outputId": "41ec6867-b8b0-4b2a-a04f-cac170a6d976"
      },
      "source": [
        "arr =input().split() #take a input as array in string\n",
        "arr = reversed(arr)\n",
        "ans = '  '.join(arr)\n",
        "print(ans)"
      ],
      "execution_count": null,
      "outputs": [
        {
          "output_type": "stream",
          "text": [
            "a t b\n",
            "bta\n"
          ],
          "name": "stdout"
        }
      ]
    },
    {
      "cell_type": "code",
      "metadata": {
        "colab": {
          "base_uri": "https://localhost:8080/"
        },
        "id": "I7T7QaqaWza_",
        "outputId": "e91494b5-8a54-4422-f439-4b118397c3e5"
      },
      "source": [
        "#code for quadratic  equation \n",
        "a,b,c = map(int,input().split())\n",
        "d = b**2 - 4*a*c\n",
        "if d>=0:\n",
        "  r1 = (-b + d**0.5)/2*a\n",
        "  r2 = (-b - d**0.5)/2*a\n",
        "  print('x1=', r1,'x2=', r2)\n",
        "else:\n",
        "  print('Root will be in complex number')"
      ],
      "execution_count": null,
      "outputs": [
        {
          "output_type": "stream",
          "text": [
            "2 1 -300\n",
            "x1= 48.0 x2= -50.0\n"
          ],
          "name": "stdout"
        }
      ]
    },
    {
      "cell_type": "code",
      "metadata": {
        "colab": {
          "base_uri": "https://localhost:8080/"
        },
        "id": "5yHZxSoxa3FM",
        "outputId": "d619ba93-f595-41ac-e0da-08ca74b9fe20"
      },
      "source": [
        "# code for showing the calendar\n",
        "import calendar \n",
        "y,m = map(int,input('Enter year and month: ').split())\n",
        "print(calendar.month(y,m))"
      ],
      "execution_count": null,
      "outputs": [
        {
          "output_type": "stream",
          "text": [
            "Enter year and month: 2021 5\n",
            "      May 2021\n",
            "Mo Tu We Th Fr Sa Su\n",
            "                1  2\n",
            " 3  4  5  6  7  8  9\n",
            "10 11 12 13 14 15 16\n",
            "17 18 19 20 21 22 23\n",
            "24 25 26 27 28 29 30\n",
            "31\n",
            "\n"
          ],
          "name": "stdout"
        }
      ]
    },
    {
      "cell_type": "code",
      "metadata": {
        "colab": {
          "base_uri": "https://localhost:8080/"
        },
        "id": "pzeo90VOfma4",
        "outputId": "694c4908-ae7c-4d5b-cf3d-5258228f2076"
      },
      "source": [
        "a = int(input())\n",
        "for i in range(2,a):\n",
        "  if a%i==0:\n",
        "    print('Not Prime number' ,i)\n",
        "    break\n",
        "\n",
        "else:\n",
        "    print('Prime number')"
      ],
      "execution_count": null,
      "outputs": [
        {
          "output_type": "stream",
          "text": [
            "581\n",
            "Not Prime number 7\n"
          ],
          "name": "stdout"
        }
      ]
    },
    {
      "cell_type": "code",
      "metadata": {
        "colab": {
          "base_uri": "https://localhost:8080/"
        },
        "id": "0ZVJPJW-kCaT",
        "outputId": "59248de3-5ba8-40e7-b4a9-41f90c958c64"
      },
      "source": [
        "#write a code for finding a factorial\n",
        "a = int(input())\n",
        "fac= 1\n",
        "if(a==0):\n",
        "  print(1)\n",
        "else:\n",
        "  for i in range (1,a+1):\n",
        "    fac = fac*i\n",
        "  print(fac)\n",
        "\n"
      ],
      "execution_count": null,
      "outputs": [
        {
          "output_type": "stream",
          "text": [
            "4\n",
            "24\n"
          ],
          "name": "stdout"
        }
      ]
    },
    {
      "cell_type": "code",
      "metadata": {
        "colab": {
          "base_uri": "https://localhost:8080/"
        },
        "id": "fmoL_vnGmeaD",
        "outputId": "36d79919-e06a-4103-887c-b066cc08b888"
      },
      "source": [
        "a = int(input())\n",
        "for i in range (1,11):\n",
        "  print(a*i)"
      ],
      "execution_count": null,
      "outputs": [
        {
          "output_type": "stream",
          "text": [
            "27\n",
            "27\n",
            "54\n",
            "81\n",
            "108\n",
            "135\n",
            "162\n",
            "189\n",
            "216\n",
            "243\n",
            "270\n"
          ],
          "name": "stdout"
        }
      ]
    },
    {
      "cell_type": "code",
      "metadata": {
        "colab": {
          "base_uri": "https://localhost:8080/"
        },
        "id": "hMzSo_mynwks",
        "outputId": "cc1c2fa4-6087-412a-b161-aea6d18a802c"
      },
      "source": [
        "n = int(input())\n",
        "a= 0\n",
        "b= 1 \n",
        "if n<=0:\n",
        "  print('Enter the positive number')\n",
        "elif n==1:\n",
        "  print(a)\n",
        "else:\n",
        "  print(a)\n",
        "  print(b)\n",
        "  for i in range(2,n):\n",
        "    c= a+b\n",
        "    a = b\n",
        "    b = c\n",
        "    print(c)"
      ],
      "execution_count": null,
      "outputs": [
        {
          "output_type": "stream",
          "text": [
            "10\n",
            "0\n",
            "1\n",
            "1\n",
            "2\n",
            "3\n",
            "5\n",
            "8\n",
            "13\n",
            "21\n",
            "34\n"
          ],
          "name": "stdout"
        }
      ]
    },
    {
      "cell_type": "code",
      "metadata": {
        "colab": {
          "base_uri": "https://localhost:8080/"
        },
        "id": "f0SAOcXPgsY0",
        "outputId": "9fea23cf-8dd8-4bde-d45c-310e4029adf0"
      },
      "source": [
        "# To check the numer is armstrong\n",
        "import array as arr\n",
        "a= list(map(int,input().split()))\n",
        "sum = 0\n",
        "cube = 0\n",
        "for i in range(0,len(a)):\n",
        "  sum= sum+ a[i]\n",
        "  cube = cube + a[i]**3\n",
        "if sum ==cube:\n",
        "  print(a,' is an armstrong Number')\n",
        "else:\n",
        "  print(a,' is not an armstrong Number')"
      ],
      "execution_count": null,
      "outputs": [
        {
          "output_type": "stream",
          "text": [
            "1 5 3\n",
            "[1, 5, 3]  is not an armstrong Number\n"
          ],
          "name": "stdout"
        }
      ]
    },
    {
      "cell_type": "code",
      "metadata": {
        "colab": {
          "base_uri": "https://localhost:8080/"
        },
        "id": "pNGesk1claWM",
        "outputId": "3a729dd6-f334-4ab5-80c6-48946ff16431"
      },
      "source": [
        "n = int(input('Enter a number'))\n",
        "m = n\n",
        "sum = 0\n",
        "while n>0:\n",
        "  r = n%10\n",
        "  sum = sum + r**3\n",
        "  n = n//10\n",
        "if sum==m:\n",
        "  print(m,' Is  is an armstrong Number ')\n",
        "else:\n",
        "  print(m,'  is not an armstrong Number')\n"
      ],
      "execution_count": null,
      "outputs": [
        {
          "output_type": "stream",
          "text": [
            "Enter a number256\n",
            "256   is not an armstrong Number\n"
          ],
          "name": "stdout"
        }
      ]
    },
    {
      "cell_type": "code",
      "metadata": {
        "colab": {
          "base_uri": "https://localhost:8080/"
        },
        "id": "0U7nSm6wvxNv",
        "outputId": "a9a5de1b-2d4d-476e-8461-7621cec8e544"
      },
      "source": [
        "n = int(input('Enter a number'))\n",
        "sum = 0\n",
        "for i in range(1,n+1):\n",
        "  sum+=i\n",
        "sum"
      ],
      "execution_count": null,
      "outputs": [
        {
          "output_type": "stream",
          "text": [
            "Enter a number100\n"
          ],
          "name": "stdout"
        },
        {
          "output_type": "execute_result",
          "data": {
            "text/plain": [
              "5050"
            ]
          },
          "metadata": {
            "tags": []
          },
          "execution_count": 24
        }
      ]
    },
    {
      "cell_type": "code",
      "metadata": {
        "colab": {
          "base_uri": "https://localhost:8080/"
        },
        "id": "AjkYEGX-6Aqo",
        "outputId": "c5c11806-6d3f-4b32-b74c-27e0e8ba2ae3"
      },
      "source": [
        "#Python Program to Convert Decimal to Binary, Octal and Hexadecimal\n",
        "dec = int(input(\"Enter a decimal number: \"))  \n",
        "  \n",
        "print(bin(dec) ,\"in binary.\")  \n",
        "print(oct(dec) ,\"in octal.\")  \n",
        "print(hex(dec) ,\"in hexadecimal.\")  "
      ],
      "execution_count": null,
      "outputs": [
        {
          "output_type": "stream",
          "text": [
            "Enter a decimal number: 15\n",
            "0b1111 in binary.\n",
            "0o17 in octal.\n",
            "0xf in hexadecimal.\n"
          ],
          "name": "stdout"
        }
      ]
    },
    {
      "cell_type": "code",
      "metadata": {
        "colab": {
          "base_uri": "https://localhost:8080/"
        },
        "id": "Y5VUWcyy7Auo",
        "outputId": "9e8652a2-8bdf-4f76-b747-2fee32794674"
      },
      "source": [
        ""
      ],
      "execution_count": null,
      "outputs": [
        {
          "output_type": "stream",
          "text": [
            "Enter a number: 5\n"
          ],
          "name": "stdout"
        },
        {
          "output_type": "execute_result",
          "data": {
            "text/plain": [
              "120"
            ]
          },
          "metadata": {
            "tags": []
          },
          "execution_count": 30
        }
      ]
    },
    {
      "cell_type": "code",
      "metadata": {
        "id": "vdFMgngSav2V"
      },
      "source": [
        ""
      ],
      "execution_count": null,
      "outputs": []
    },
    {
      "cell_type": "code",
      "metadata": {
        "colab": {
          "base_uri": "https://localhost:8080/",
          "height": 367
        },
        "id": "GpPgaLWtZDar",
        "outputId": "b7f31267-e1df-4340-f5e4-78a1d8c71520"
      },
      "source": [
        "n = input()\n",
        "\n",
        "m = n\n",
        "result = n\n",
        "\n",
        "while(result != 1 and result != 4):    \n",
        "    result = isHappyNumber(result); \n",
        "if result == 1:\n",
        "  print(m, \"is Happy number\")\n",
        "elif result ==4:\n",
        "  print(m, \"is not Happy number\")"
      ],
      "execution_count": null,
      "outputs": [
        {
          "output_type": "stream",
          "text": [
            "32\n"
          ],
          "name": "stdout"
        },
        {
          "output_type": "error",
          "ename": "UnboundLocalError",
          "evalue": "ignored",
          "traceback": [
            "\u001b[0;31m---------------------------------------------------------------------------\u001b[0m",
            "\u001b[0;31mUnboundLocalError\u001b[0m                         Traceback (most recent call last)",
            "\u001b[0;32m<ipython-input-86-af0ad619c54b>\u001b[0m in \u001b[0;36m<module>\u001b[0;34m()\u001b[0m\n\u001b[1;32m      3\u001b[0m \u001b[0mresult\u001b[0m \u001b[0;34m=\u001b[0m \u001b[0mn\u001b[0m\u001b[0;34m\u001b[0m\u001b[0;34m\u001b[0m\u001b[0m\n\u001b[1;32m      4\u001b[0m \u001b[0;32mwhile\u001b[0m\u001b[0;34m(\u001b[0m\u001b[0mresult\u001b[0m \u001b[0;34m!=\u001b[0m \u001b[0;36m1\u001b[0m \u001b[0;32mand\u001b[0m \u001b[0mresult\u001b[0m \u001b[0;34m!=\u001b[0m \u001b[0;36m4\u001b[0m\u001b[0;34m)\u001b[0m\u001b[0;34m:\u001b[0m\u001b[0;34m\u001b[0m\u001b[0;34m\u001b[0m\u001b[0m\n\u001b[0;32m----> 5\u001b[0;31m     \u001b[0mresult\u001b[0m \u001b[0;34m=\u001b[0m \u001b[0misHappyNumber\u001b[0m\u001b[0;34m(\u001b[0m\u001b[0mresult\u001b[0m\u001b[0;34m)\u001b[0m\u001b[0;34m;\u001b[0m\u001b[0;34m\u001b[0m\u001b[0;34m\u001b[0m\u001b[0m\n\u001b[0m\u001b[1;32m      6\u001b[0m \u001b[0;32mif\u001b[0m \u001b[0mresult\u001b[0m \u001b[0;34m==\u001b[0m \u001b[0;36m1\u001b[0m\u001b[0;34m:\u001b[0m\u001b[0;34m\u001b[0m\u001b[0;34m\u001b[0m\u001b[0m\n\u001b[1;32m      7\u001b[0m   \u001b[0mprint\u001b[0m\u001b[0;34m(\u001b[0m\u001b[0mm\u001b[0m\u001b[0;34m,\u001b[0m \u001b[0;34m\"is Happy number\"\u001b[0m\u001b[0;34m)\u001b[0m\u001b[0;34m\u001b[0m\u001b[0;34m\u001b[0m\u001b[0m\n",
            "\u001b[0;32m<ipython-input-85-52fafb4ba1d1>\u001b[0m in \u001b[0;36misHappyNumber\u001b[0;34m(result)\u001b[0m\n\u001b[1;32m      1\u001b[0m \u001b[0;32mdef\u001b[0m \u001b[0misHappyNumber\u001b[0m\u001b[0;34m(\u001b[0m\u001b[0mresult\u001b[0m\u001b[0;34m)\u001b[0m\u001b[0;34m:\u001b[0m\u001b[0;34m\u001b[0m\u001b[0;34m\u001b[0m\u001b[0m\n\u001b[1;32m      2\u001b[0m   \u001b[0ms\u001b[0m \u001b[0;34m=\u001b[0m \u001b[0;36m0\u001b[0m\u001b[0;34m\u001b[0m\u001b[0;34m\u001b[0m\u001b[0m\n\u001b[0;32m----> 3\u001b[0;31m   \u001b[0;32mwhile\u001b[0m \u001b[0mn\u001b[0m\u001b[0;34m>\u001b[0m\u001b[0;36m0\u001b[0m\u001b[0;34m:\u001b[0m\u001b[0;34m\u001b[0m\u001b[0;34m\u001b[0m\u001b[0m\n\u001b[0m\u001b[1;32m      4\u001b[0m     \u001b[0mr\u001b[0m \u001b[0;34m=\u001b[0m \u001b[0mn\u001b[0m\u001b[0;34m%\u001b[0m\u001b[0;36m10\u001b[0m\u001b[0;34m\u001b[0m\u001b[0;34m\u001b[0m\u001b[0m\n\u001b[1;32m      5\u001b[0m     \u001b[0ms\u001b[0m \u001b[0;34m=\u001b[0m \u001b[0ms\u001b[0m \u001b[0;34m+\u001b[0m \u001b[0mr\u001b[0m\u001b[0;34m**\u001b[0m\u001b[0;36m3\u001b[0m\u001b[0;34m\u001b[0m\u001b[0;34m\u001b[0m\u001b[0m\n",
            "\u001b[0;31mUnboundLocalError\u001b[0m: local variable 'n' referenced before assignment"
          ]
        }
      ]
    },
    {
      "cell_type": "code",
      "metadata": {
        "colab": {
          "base_uri": "https://localhost:8080/"
        },
        "id": "HRiGG-E_HPso",
        "outputId": "155d3615-558a-4c7f-cd30-85698deb4b5c"
      },
      "source": [
        "count(1)"
      ],
      "execution_count": null,
      "outputs": [
        {
          "output_type": "execute_result",
          "data": {
            "text/plain": [
              "1"
            ]
          },
          "metadata": {
            "tags": []
          },
          "execution_count": 51
        }
      ]
    },
    {
      "cell_type": "code",
      "metadata": {
        "colab": {
          "base_uri": "https://localhost:8080/"
        },
        "id": "c_XJL3HC7dan",
        "outputId": "39f28e3a-7619-49ab-de13-12a1e14633a5"
      },
      "source": [
        "n = int(input('Enter a number'))\n",
        "for n in range(1,100):\n",
        "  def count(n):\n",
        "    i=0\n",
        "    while(n>0):\n",
        "      i+=1\n",
        "      n = n//10\n",
        "    return i\n",
        "  m = n\n",
        "  sum = 0\n",
        "  i=count(n)\n",
        "  while (n>0):\n",
        "    r = n%10\n",
        "    sum = sum + r**i\n",
        "    n = n//10\n",
        "    i-=1\n",
        "  if sum==m:\n",
        "    print(m,'is an Disarium Number ')\n",
        "\n"
      ],
      "execution_count": null,
      "outputs": [
        {
          "output_type": "stream",
          "text": [
            "Enter a number100\n",
            "1 is an Disarium Number \n",
            "2 is an Disarium Number \n",
            "3 is an Disarium Number \n",
            "4 is an Disarium Number \n",
            "5 is an Disarium Number \n",
            "6 is an Disarium Number \n",
            "7 is an Disarium Number \n",
            "8 is an Disarium Number \n",
            "9 is an Disarium Number \n",
            "89 is an Disarium Number \n"
          ],
          "name": "stdout"
        }
      ]
    },
    {
      "cell_type": "code",
      "metadata": {
        "colab": {
          "base_uri": "https://localhost:8080/"
        },
        "id": "7ndlNDerqlsX",
        "outputId": "93ad3d6d-f7d4-4ac8-89d7-216054e45c58"
      },
      "source": [
        "#determine the given number is Harshad number\n",
        "n = int(input())\n",
        "m = n\n",
        "sum = 0\n",
        "#for i in range(1,n)\n",
        "  while n>0:\n",
        "    r = n%10\n",
        "    sum = sum+r\n",
        "    n = n//10\n",
        "  if m % sum ==0 :\n",
        "    print(m , \" is Harshad Number\")\n",
        "else:\n",
        "  print(m, \" is not  Harshad Number\")\n",
        "\n"
      ],
      "execution_count": null,
      "outputs": [
        {
          "output_type": "stream",
          "text": [
            "156\n",
            "156  is Harshad Number\n"
          ],
          "name": "stdout"
        }
      ]
    },
    {
      "cell_type": "code",
      "metadata": {
        "id": "AcJ8lygwwsqv"
      },
      "source": [
        "def isPronicNumber(n):\n",
        "  f = False\n",
        "  for j in range(1,n):\n",
        "    if (j*(j-1)==n):\n",
        "      f = True\n",
        "      break\n",
        "  return f"
      ],
      "execution_count": null,
      "outputs": []
    },
    {
      "cell_type": "code",
      "metadata": {
        "colab": {
          "base_uri": "https://localhost:8080/"
        },
        "id": "EOd-_FOyxxUo",
        "outputId": "f3ae2555-3b0a-4870-f809-cac7b416df7b"
      },
      "source": [
        "num = int(input())\n",
        "for i in range(1,num+1):\n",
        "  if isPronicNumber(i):\n",
        "    print(i,end='  ')"
      ],
      "execution_count": null,
      "outputs": [
        {
          "output_type": "stream",
          "text": [
            "100\n",
            "6  12  20  30  42  56  72  90  "
          ],
          "name": "stdout"
        }
      ]
    },
    {
      "cell_type": "code",
      "metadata": {
        "colab": {
          "base_uri": "https://localhost:8080/"
        },
        "id": "liE-CY362JA9",
        "outputId": "c1ece725-e3e1-4499-ce6d-e8113e02daf1"
      },
      "source": [
        "#To Sort Words in Alphabetic Order\n",
        "my_st = input().split()\n",
        "words = my_st\n",
        "my_st.sort()\n",
        "for word in words:\n",
        "  print(word)"
      ],
      "execution_count": null,
      "outputs": [
        {
          "output_type": "stream",
          "text": [
            "acb\n",
            "acb\n"
          ],
          "name": "stdout"
        }
      ]
    },
    {
      "cell_type": "code",
      "metadata": {
        "colab": {
          "base_uri": "https://localhost:8080/"
        },
        "id": "0q09UK0O3dqo",
        "outputId": "e5ea3eb4-82c2-4913-fd60-16accae30dbe"
      },
      "source": [
        "my_str = input(\"Enter a string: \")  \n",
        "# breakdown the string into a list of words  \n",
        "words = my_str.split()  \n",
        "# sort the list  \n",
        "words.sort()  \n",
        "# display the sorted words  \n",
        "for word in words:  \n",
        "   print(word)  "
      ],
      "execution_count": null,
      "outputs": [
        {
          "output_type": "stream",
          "text": [
            "Enter a string: love\n",
            "love\n"
          ],
          "name": "stdout"
        }
      ]
    },
    {
      "cell_type": "code",
      "metadata": {
        "colab": {
          "base_uri": "https://localhost:8080/"
        },
        "id": "_MOCwmRTBuz3",
        "outputId": "9fef8a96-2282-4e34-bebc-f4b1569a9da9"
      },
      "source": [
        "# define punctuation  \n",
        "punctuation = '''''!()-[]{};:'\"\\,<>./?@#$%^&*_~'''  \n",
        "# take input from the user  \n",
        "my_str = input(\"Enter a string: \")  \n",
        "# remove punctuation from the string  \n",
        "no_punct = \"\"  \n",
        "for char in my_str:  \n",
        "   if char not in punctuation:  \n",
        "       no_punct = no_punct + char  \n",
        "# display the unpunctuated string  \n",
        "print(no_punct)  "
      ],
      "execution_count": null,
      "outputs": [
        {
          "output_type": "stream",
          "text": [
            "Enter a string: I love my country, India\n",
            "I love my country India\n"
          ],
          "name": "stdout"
        }
      ]
    },
    {
      "cell_type": "code",
      "metadata": {
        "id": "ktyuDIz2DEeX"
      },
      "source": [
        "def rever_str(str):\n",
        " str = str[::-1]\n",
        " return str"
      ],
      "execution_count": null,
      "outputs": []
    },
    {
      "cell_type": "code",
      "metadata": {
        "colab": {
          "base_uri": "https://localhost:8080/",
          "height": 35
        },
        "id": "ws-WqureDfR-",
        "outputId": "6cc037fa-4200-4330-d719-79792d4d6d1d"
      },
      "source": [
        "rever_str('Welcom to mettle')"
      ],
      "execution_count": null,
      "outputs": [
        {
          "output_type": "execute_result",
          "data": {
            "application/vnd.google.colaboratory.intrinsic+json": {
              "type": "string"
            },
            "text/plain": [
              "'elttem ot mocleW'"
            ]
          },
          "metadata": {
            "tags": []
          },
          "execution_count": 106
        }
      ]
    },
    {
      "cell_type": "code",
      "metadata": {
        "colab": {
          "base_uri": "https://localhost:8080/"
        },
        "id": "B95Ejgbx6FVa",
        "outputId": "66bd77ef-6aff-417d-d93b-c53da6bbf002"
      },
      "source": [
        "n = int(input())\n",
        "c=0\n",
        "if (0<n<13):\n",
        "  for i in range(1,7):\n",
        "    for j in range(1,7):\n",
        "      if(i+j==n):\n",
        "        c+=1\n",
        "  print(c)\n",
        "else:\n",
        "  print(0)\n",
        " "
      ],
      "execution_count": null,
      "outputs": [
        {
          "output_type": "stream",
          "text": [
            "5\n",
            "4\n"
          ],
          "name": "stdout"
        }
      ]
    },
    {
      "cell_type": "code",
      "metadata": {
        "id": "OdSaf4R8cS3f"
      },
      "source": [
        "def strrever(str):\n",
        "  vowels = \"AaEeIiOoUu\"\n",
        "# Get vowels\n",
        "  res = set([each for each in stringA if each in vowels])\n",
        "  reversed(res)\n",
        "  \n",
        "  "
      ],
      "execution_count": null,
      "outputs": []
    },
    {
      "cell_type": "code",
      "metadata": {
        "colab": {
          "base_uri": "https://localhost:8080/",
          "height": 231
        },
        "id": "hUAEbmaHjwUc",
        "outputId": "133ac80d-0eb1-466a-8ed0-271afada4e66"
      },
      "source": [
        "def reverseVowels(self, s):\n",
        "      chars = list(s)\n",
        "      index = []\n",
        "      vowels = []\n",
        "      for i in range(len(chars)):\n",
        "         if chars[i] in ['a','e','i','o','u']:\n",
        "            vowels.append(chars[i])\n",
        "            index.append(i)\n",
        "      vowels = vowels[::-1]\n",
        "      final = []\n",
        "      ind = 0\n",
        "      for i in range(len(chars)):\n",
        "        if i in index:\n",
        "          final.append(vowels[ind])\n",
        "          ind += 1\n",
        "        else:\n",
        "          final.append(chars[i])\n",
        "      str1 = \"\"\n",
        "      return str1.join(final)\n",
        "ob1 = Solution()\n",
        "print(ob1.reverseVowels(\"hello\"))\n",
        "print(ob1.reverseVowels(\"programming\"))"
      ],
      "execution_count": null,
      "outputs": [
        {
          "output_type": "error",
          "ename": "NameError",
          "evalue": "ignored",
          "traceback": [
            "\u001b[0;31m---------------------------------------------------------------------------\u001b[0m",
            "\u001b[0;31mNameError\u001b[0m                                 Traceback (most recent call last)",
            "\u001b[0;32m<ipython-input-4-142a8701e14a>\u001b[0m in \u001b[0;36m<module>\u001b[0;34m()\u001b[0m\n\u001b[1;32m     18\u001b[0m       \u001b[0mstr1\u001b[0m \u001b[0;34m=\u001b[0m \u001b[0;34m\"\"\u001b[0m\u001b[0;34m\u001b[0m\u001b[0;34m\u001b[0m\u001b[0m\n\u001b[1;32m     19\u001b[0m       \u001b[0;32mreturn\u001b[0m \u001b[0mstr1\u001b[0m\u001b[0;34m.\u001b[0m\u001b[0mjoin\u001b[0m\u001b[0;34m(\u001b[0m\u001b[0mfinal\u001b[0m\u001b[0;34m)\u001b[0m\u001b[0;34m\u001b[0m\u001b[0;34m\u001b[0m\u001b[0m\n\u001b[0;32m---> 20\u001b[0;31m \u001b[0mob1\u001b[0m \u001b[0;34m=\u001b[0m \u001b[0mSolution\u001b[0m\u001b[0;34m(\u001b[0m\u001b[0;34m)\u001b[0m\u001b[0;34m\u001b[0m\u001b[0;34m\u001b[0m\u001b[0m\n\u001b[0m\u001b[1;32m     21\u001b[0m \u001b[0mprint\u001b[0m\u001b[0;34m(\u001b[0m\u001b[0mob1\u001b[0m\u001b[0;34m.\u001b[0m\u001b[0mreverseVowels\u001b[0m\u001b[0;34m(\u001b[0m\u001b[0;34m\"hello\"\u001b[0m\u001b[0;34m)\u001b[0m\u001b[0;34m)\u001b[0m\u001b[0;34m\u001b[0m\u001b[0;34m\u001b[0m\u001b[0m\n\u001b[1;32m     22\u001b[0m \u001b[0mprint\u001b[0m\u001b[0;34m(\u001b[0m\u001b[0mob1\u001b[0m\u001b[0;34m.\u001b[0m\u001b[0mreverseVowels\u001b[0m\u001b[0;34m(\u001b[0m\u001b[0;34m\"programming\"\u001b[0m\u001b[0;34m)\u001b[0m\u001b[0;34m)\u001b[0m\u001b[0;34m\u001b[0m\u001b[0;34m\u001b[0m\u001b[0m\n",
            "\u001b[0;31mNameError\u001b[0m: name 'Solution' is not defined"
          ]
        }
      ]
    },
    {
      "cell_type": "code",
      "metadata": {
        "colab": {
          "base_uri": "https://localhost:8080/"
        },
        "id": "eNF1AqesrJDP",
        "outputId": "2518aa12-3e0c-4e18-f080-618f6004d0dd"
      },
      "source": [
        "!pip install phonenumbers\n"
      ],
      "execution_count": null,
      "outputs": [
        {
          "output_type": "stream",
          "text": [
            "Collecting phonenumbers\n",
            "\u001b[?25l  Downloading https://files.pythonhosted.org/packages/67/19/ef71c8507bb271bcb8d72f627b150ae00c5f809df784b92a89c9b176c7be/phonenumbers-8.12.22-py2.py3-none-any.whl (2.6MB)\n",
            "\u001b[K     |████████████████████████████████| 2.6MB 4.1MB/s \n",
            "\u001b[?25hInstalling collected packages: phonenumbers\n",
            "Successfully installed phonenumbers-8.12.22\n"
          ],
          "name": "stdout"
        }
      ]
    },
    {
      "cell_type": "code",
      "metadata": {
        "colab": {
          "base_uri": "https://localhost:8080/"
        },
        "id": "zILl2iZLsJCh",
        "outputId": "4c809baa-b417-4858-ee35-a5d823bef1ba"
      },
      "source": [
        "#code for finding a country code\n",
        "import phonenumbers\n",
        "number = input('Enter your phone number with country code')\n",
        "from phonenumbers import geocoder\n",
        "ch_num = phonenumbers.parse(number,'CH')\n",
        "print(geocoder.description_for_number(ch_num,\"en\"))\n",
        "\n"
      ],
      "execution_count": null,
      "outputs": [
        {
          "output_type": "stream",
          "text": [
            "Enter your phone number with country code+917654799492\n",
            "India\n"
          ],
          "name": "stdout"
        }
      ]
    },
    {
      "cell_type": "code",
      "metadata": {
        "colab": {
          "base_uri": "https://localhost:8080/"
        },
        "id": "mms2RCZsuPDY",
        "outputId": "1b8ad050-57bf-46db-e81c-70c041c01113"
      },
      "source": [
        "from phonenumbers import carrier\n",
        "ser_number =phonenumbers.parse(number,\"RO\")\n",
        "print(carrier.name_for_number(ser_number,\"en\"))\n"
      ],
      "execution_count": null,
      "outputs": [
        {
          "output_type": "stream",
          "text": [
            "Idea\n"
          ],
          "name": "stdout"
        }
      ]
    },
    {
      "cell_type": "code",
      "metadata": {
        "id": "sSOKQkZ_wWwi"
      },
      "source": [
        ""
      ],
      "execution_count": null,
      "outputs": []
    },
    {
      "cell_type": "code",
      "metadata": {
        "id": "NpOuRGvVvxEU"
      },
      "source": [
        "# Given an arrays nums of an n integer where n>1 , return an array output \n",
        "#such that output[i] is equal to the product of all the elements of nums except num[i].\n"
      ],
      "execution_count": null,
      "outputs": []
    },
    {
      "cell_type": "code",
      "metadata": {
        "id": "u_5Iw6xCAPu7",
        "colab": {
          "base_uri": "https://localhost:8080/"
        },
        "outputId": "3e9ab383-1758-4efc-8557-fbdbb4c4e707"
      },
      "source": [
        "#Print a pascal Triangle\n",
        "n = int(input())\n",
        "list1 = []\n",
        "for i in range(n):\n",
        "  temp_lst = []\n",
        "  for j in range(i+1):\n",
        "    if (j==0 or j==i):\n",
        "      temp_lst.append(1)\n",
        "    else:\n",
        "      temp_lst.append(list1[i-1][j-1] + list1[i-1][j])\n",
        "  list1.append(temp_lst)\n",
        "#print(list1)\n",
        "for i in range(n):\n",
        "  for j in range(n-i-1):\n",
        "    print(format(' ',\"<2\"),end='')\n",
        "  for j in range(i+1):\n",
        "    print(format(list1[i][j],'<4'),end='')\n",
        "  print()\n",
        "\n",
        "\n",
        "\n",
        " "
      ],
      "execution_count": null,
      "outputs": [
        {
          "output_type": "stream",
          "text": [
            "5\n",
            "        1   \n",
            "      1   1   \n",
            "    1   2   1   \n",
            "  1   3   3   1   \n",
            "1   4   6   4   1   \n"
          ],
          "name": "stdout"
        }
      ]
    },
    {
      "cell_type": "code",
      "metadata": {
        "id": "1xFy0C9rXJdB",
        "colab": {
          "base_uri": "https://localhost:8080/"
        },
        "outputId": "6ebd43ea-c616-4ba6-89ce-326f53c772a8"
      },
      "source": [
        "#n==5\n",
        "for i in range(n):\n",
        "  #pdb.set_trace()\n",
        "  for j in range(n-i-1):\n",
        "    print(format(' ',\"<2\"),end='')\n",
        "  for j in range(i+1):\n",
        "    print(format(\"*\",'<4'),end='')\n",
        "  print()\n"
      ],
      "execution_count": null,
      "outputs": [
        {
          "output_type": "stream",
          "text": [
            "        *   \n",
            "      *   *   \n",
            "    *   *   *   \n",
            "  *   *   *   *   \n",
            "*   *   *   *   *   \n"
          ],
          "name": "stdout"
        }
      ]
    },
    {
      "cell_type": "code",
      "metadata": {
        "colab": {
          "base_uri": "https://localhost:8080/"
        },
        "id": "lSixIWt0HUlK",
        "outputId": "1b4d90ee-1553-4c5a-b434-9795ded3bb88"
      },
      "source": [
        "num = [x for x in range(20) if x%2==0 if x%5==0]\n",
        "print(num)"
      ],
      "execution_count": null,
      "outputs": [
        {
          "output_type": "stream",
          "text": [
            "[0, 10]\n"
          ],
          "name": "stdout"
        }
      ]
    },
    {
      "cell_type": "code",
      "metadata": {
        "colab": {
          "base_uri": "https://localhost:8080/"
        },
        "id": "ZQlFBhg6S6O6",
        "outputId": "2d66bf5f-11d1-4965-ace9-4c5444a8453e"
      },
      "source": [
        "x = int(input())\n",
        "y = int(input())\n",
        "z = int(input())\n",
        "n = int(input())\n",
        "\n",
        "per = [[i,j,k] for i in range(0,x+1) for j in range(0,y+1) for k in range(0,z+1) if i+j+k!=n ]\n",
        "print(per)\n"
      ],
      "execution_count": null,
      "outputs": [
        {
          "output_type": "stream",
          "text": [
            "1\n",
            "2\n",
            "3\n",
            "2\n",
            "[[0, 0, 0], [0, 0, 1], [0, 0, 2], [0, 0, 3], [0, 1, 0], [0, 1, 1], [0, 1, 2], [0, 1, 3], [0, 2, 0], [0, 2, 1], [0, 2, 2], [0, 2, 3], [1, 0, 0], [1, 0, 1], [1, 0, 2], [1, 0, 3], [1, 1, 0], [1, 1, 1], [1, 1, 2], [1, 1, 3], [1, 2, 0], [1, 2, 1], [1, 2, 2], [1, 2, 3]]\n"
          ],
          "name": "stdout"
        }
      ]
    },
    {
      "cell_type": "markdown",
      "metadata": {
        "id": "96ZitAPCVYEi"
      },
      "source": [
        ""
      ]
    },
    {
      "cell_type": "code",
      "metadata": {
        "id": "upa3R-1HU8Xl"
      },
      "source": [
        "print([[x, y] for x in [1, 2, 3] for y in [4, 5, 6]])"
      ],
      "execution_count": null,
      "outputs": []
    },
    {
      "cell_type": "code",
      "metadata": {
        "colab": {
          "base_uri": "https://localhost:8080/"
        },
        "id": "V7JPIy_Kqg1V",
        "outputId": "8bb18b3b-9999-48e6-b1cc-5c7c76c46198"
      },
      "source": [
        "arr = list(map(int,input().split()))\n",
        "n = int(input())\n",
        "sum = 0\n",
        "for i in range(n):\n",
        "  for j in range(1,i+1):\n",
        "    if (arr[i]<arr[j]):\n",
        "      c=0\n",
        "      break\n",
        "  else:\n",
        "      c=1\n",
        "  if c==1:\n",
        "    sum+=1\n",
        "  \n",
        "print(sum+1)\n"
      ],
      "execution_count": null,
      "outputs": [
        {
          "output_type": "stream",
          "text": [
            "7 9 5 2 8 7\n",
            "6\n",
            "3\n"
          ],
          "name": "stdout"
        }
      ]
    },
    {
      "cell_type": "code",
      "metadata": {
        "colab": {
          "base_uri": "https://localhost:8080/",
          "height": 35
        },
        "id": "sIfz1lknyPG9",
        "outputId": "5f649636-ecf4-46f3-e090-59d17897534a"
      },
      "source": [
        "glosary = ['apple','ball','cat','girl']\n",
        "glosary[2][2]"
      ],
      "execution_count": null,
      "outputs": [
        {
          "output_type": "execute_result",
          "data": {
            "application/vnd.google.colaboratory.intrinsic+json": {
              "type": "string"
            },
            "text/plain": [
              "'t'"
            ]
          },
          "metadata": {
            "tags": []
          },
          "execution_count": 2
        }
      ]
    },
    {
      "cell_type": "code",
      "metadata": {
        "id": "e4pAqBhD0LPT",
        "colab": {
          "base_uri": "https://localhost:8080/"
        },
        "outputId": "16ca9cf3-9c68-4a8b-8746-c068cbb8a202"
      },
      "source": [
        "ord('c')"
      ],
      "execution_count": null,
      "outputs": [
        {
          "output_type": "execute_result",
          "data": {
            "text/plain": [
              "99"
            ]
          },
          "metadata": {
            "tags": []
          },
          "execution_count": 2
        }
      ]
    },
    {
      "cell_type": "code",
      "metadata": {
        "colab": {
          "base_uri": "https://localhost:8080/"
        },
        "id": "leucuVEzgr9E",
        "outputId": "9d0049af-b64c-4c0a-a5dc-c54ff2e8708d"
      },
      "source": [
        "a,b,n = map(int,input().split())"
      ],
      "execution_count": null,
      "outputs": [
        {
          "output_type": "stream",
          "text": [
            "2 4 5\n"
          ],
          "name": "stdout"
        }
      ]
    },
    {
      "cell_type": "code",
      "metadata": {
        "colab": {
          "base_uri": "https://localhost:8080/"
        },
        "id": "LgGH1-fgss_e",
        "outputId": "470efe9c-27c2-4249-a134-48ed2a46fa4a"
      },
      "source": [
        "r = b/a\n",
        "frst = a/r\n",
        "nth = frst*r**(n-1)\n",
        "nth"
      ],
      "execution_count": null,
      "outputs": [
        {
          "output_type": "execute_result",
          "data": {
            "text/plain": [
              "16.0"
            ]
          },
          "metadata": {
            "tags": []
          },
          "execution_count": 4
        }
      ]
    },
    {
      "cell_type": "code",
      "metadata": {
        "colab": {
          "base_uri": "https://localhost:8080/"
        },
        "id": "2wgfEX3gtvQM",
        "outputId": "2e3089b9-32a5-4927-a897-21caf592c386"
      },
      "source": [
        "r = b/a\n",
        "frst = a/r\n",
        "for i in range(n-1):\n",
        "  frst = frst*r\n",
        "print(frst)\n"
      ],
      "execution_count": null,
      "outputs": [
        {
          "output_type": "stream",
          "text": [
            "16.0\n"
          ],
          "name": "stdout"
        }
      ]
    },
    {
      "cell_type": "code",
      "metadata": {
        "colab": {
          "base_uri": "https://localhost:8080/"
        },
        "id": "7NlMwBnzul4v",
        "outputId": "ed9861d2-a4cb-48c8-9d07-42d9b9a72c74"
      },
      "source": [
        "arr = map(int, input().split())\n",
        "arr= list(arr)\n",
        "arr.sort()\n",
        "z = max(arr)\n",
        "while(max(arr)==z):\n",
        "  arr.remove(max(arr))\n",
        "max(arr)\n",
        "#print(arr[len(arr)-2])\n"
      ],
      "execution_count": null,
      "outputs": [
        {
          "output_type": "stream",
          "text": [
            "2 5 8 3 7\n",
            "7\n"
          ],
          "name": "stdout"
        }
      ]
    },
    {
      "cell_type": "code",
      "metadata": {
        "colab": {
          "base_uri": "https://localhost:8080/"
        },
        "id": "E1XWgbDHSnXC",
        "outputId": "9502cb87-73f8-4486-f3a2-35356d9644cd"
      },
      "source": [
        "for _ in range(int(input())):\n",
        "        name = input()\n",
        "        score = float(input())\n",
        "        records = []4\n",
        "        records.append([name, score])"
      ],
      "execution_count": null,
      "outputs": [
        {
          "output_type": "stream",
          "text": [
            "5\n",
            "Harry\n",
            "37.2\n",
            "Berry\n",
            "37.21\n",
            "Tina\n",
            "37.2\n",
            "Akriti\n",
            "41\n",
            "Harsh\n",
            "39\n"
          ],
          "name": "stdout"
        }
      ]
    },
    {
      "cell_type": "code",
      "metadata": {
        "colab": {
          "base_uri": "https://localhost:8080/",
          "height": 231
        },
        "id": "6oE0qnbLU23H",
        "outputId": "ff15f14a-b7cb-478c-c193-350dc01d549f"
      },
      "source": [
        "\n",
        "records = dict(records)\n",
        "scores = sorted(set(records.values()))\n",
        "second_lowest_score = scores[1]\n",
        "second_lowest_students = [name for name,score in records if score==second_lowest_score]\n",
        "second_lowest_students.sort()\n",
        "for name in second_lowest_students:\n",
        "  print(name)\n",
        "        \n",
        "            "
      ],
      "execution_count": null,
      "outputs": [
        {
          "output_type": "error",
          "ename": "IndexError",
          "evalue": "ignored",
          "traceback": [
            "\u001b[0;31m---------------------------------------------------------------------------\u001b[0m",
            "\u001b[0;31mIndexError\u001b[0m                                Traceback (most recent call last)",
            "\u001b[0;32m<ipython-input-10-78b70c07445f>\u001b[0m in \u001b[0;36m<module>\u001b[0;34m()\u001b[0m\n\u001b[1;32m      2\u001b[0m \u001b[0mrecords\u001b[0m \u001b[0;34m=\u001b[0m \u001b[0mdict\u001b[0m\u001b[0;34m(\u001b[0m\u001b[0mrecords\u001b[0m\u001b[0;34m)\u001b[0m\u001b[0;34m\u001b[0m\u001b[0;34m\u001b[0m\u001b[0m\n\u001b[1;32m      3\u001b[0m \u001b[0mscores\u001b[0m \u001b[0;34m=\u001b[0m \u001b[0msorted\u001b[0m\u001b[0;34m(\u001b[0m\u001b[0mset\u001b[0m\u001b[0;34m(\u001b[0m\u001b[0mrecords\u001b[0m\u001b[0;34m.\u001b[0m\u001b[0mvalues\u001b[0m\u001b[0;34m(\u001b[0m\u001b[0;34m)\u001b[0m\u001b[0;34m)\u001b[0m\u001b[0;34m)\u001b[0m\u001b[0;34m\u001b[0m\u001b[0;34m\u001b[0m\u001b[0m\n\u001b[0;32m----> 4\u001b[0;31m \u001b[0msecond_lowest_score\u001b[0m \u001b[0;34m=\u001b[0m \u001b[0mscores\u001b[0m\u001b[0;34m[\u001b[0m\u001b[0;36m1\u001b[0m\u001b[0;34m]\u001b[0m\u001b[0;34m\u001b[0m\u001b[0;34m\u001b[0m\u001b[0m\n\u001b[0m\u001b[1;32m      5\u001b[0m \u001b[0msecond_lowest_students\u001b[0m \u001b[0;34m=\u001b[0m \u001b[0;34m[\u001b[0m\u001b[0mname\u001b[0m \u001b[0;32mfor\u001b[0m \u001b[0mname\u001b[0m\u001b[0;34m,\u001b[0m\u001b[0mscore\u001b[0m \u001b[0;32min\u001b[0m \u001b[0mrecords\u001b[0m \u001b[0;32mif\u001b[0m \u001b[0mscore\u001b[0m\u001b[0;34m==\u001b[0m\u001b[0msecond_lowest_score\u001b[0m\u001b[0;34m]\u001b[0m\u001b[0;34m\u001b[0m\u001b[0;34m\u001b[0m\u001b[0m\n\u001b[1;32m      6\u001b[0m \u001b[0msecond_lowest_students\u001b[0m\u001b[0;34m.\u001b[0m\u001b[0msort\u001b[0m\u001b[0;34m(\u001b[0m\u001b[0;34m)\u001b[0m\u001b[0;34m\u001b[0m\u001b[0;34m\u001b[0m\u001b[0m\n",
            "\u001b[0;31mIndexError\u001b[0m: list index out of range"
          ]
        }
      ]
    },
    {
      "cell_type": "code",
      "metadata": {
        "colab": {
          "base_uri": "https://localhost:8080/"
        },
        "id": "L75MKLeZ4mVd",
        "outputId": "9c86ff35-5ce7-49df-a995-39a8b69f0f45"
      },
      "source": [
        "n = int(input())\n",
        "arr = []\n",
        "for i in range(n):\n",
        "    name = input()\n",
        "    marks = float(input())\n",
        "    arr.append([marks, name])\n",
        "arr.sort()\n",
        "\n"
      ],
      "execution_count": null,
      "outputs": [
        {
          "output_type": "stream",
          "text": [
            "5\n",
            "Harry\n",
            "37.21\n",
            "Berry\n",
            "37.21\n",
            "Tina\n",
            "37.2\n",
            "Akriti\n",
            "41\n",
            "Harsh\n",
            "39\n",
            "Berry\n",
            "Harry\n"
          ],
          "name": "stdout"
        }
      ]
    },
    {
      "cell_type": "code",
      "metadata": {
        "colab": {
          "base_uri": "https://localhost:8080/"
        },
        "id": "8vRLcsEa9yWU",
        "outputId": "8edf4f8c-284d-4168-8f92-6b0078735440"
      },
      "source": [
        "arr"
      ],
      "execution_count": null,
      "outputs": [
        {
          "output_type": "execute_result",
          "data": {
            "text/plain": [
              "[[37.2, 'Tina'],\n",
              " [37.21, 'Berry'],\n",
              " [37.21, 'Harry'],\n",
              " [39.0, 'Harsh'],\n",
              " [41.0, 'Akriti']]"
            ]
          },
          "metadata": {
            "tags": []
          },
          "execution_count": 2
        }
      ]
    },
    {
      "cell_type": "code",
      "metadata": {
        "id": "-Y-rnRV29phO"
      },
      "source": [
        "ans = []\n",
        "for i in range(len(arr) - 1):\n",
        "    if len(ans) == 0:\n",
        "        if arr[i][0] != arr[i + 1][0]:\n",
        "            ans.append(arr[i + 1])\n",
        "            continue\n",
        "    if len(ans) > 0:\n",
        "        if arr[i][0] == arr[i + 1][0]:\n",
        "            ans.append(arr[i + 1])\n",
        "        else:\n",
        "            break\n",
        "ans.sort()\n",
        "for i in ans:\n",
        "    print(i[1])"
      ],
      "execution_count": null,
      "outputs": []
    },
    {
      "cell_type": "code",
      "metadata": {
        "colab": {
          "base_uri": "https://localhost:8080/"
        },
        "id": "oDzujd_Q_Cd7",
        "outputId": "e6e7c509-c4d5-4dc5-b127-051cd34c82ca"
      },
      "source": [
        "marksheet = []\n",
        "for _ in range(0,int(input())):\n",
        "    marksheet.append([input(), float(input())])\n",
        "\n",
        "second_highest = sorted(list(set([marks for name, marks in marksheet])))[1]\n",
        "print('\\n'.join([a for a,b in sorted(marksheet) if b == second_highest]))"
      ],
      "execution_count": null,
      "outputs": [
        {
          "output_type": "stream",
          "text": [
            "5\n",
            "Harry\n",
            "37.21\n",
            "Berry\n",
            "37.21\n",
            "Tina\n",
            "37.2\n",
            "Akriti\n",
            "41\n",
            "Harsh\n",
            "39\n",
            "Berry\n",
            "Harry\n"
          ],
          "name": "stdout"
        }
      ]
    },
    {
      "cell_type": "code",
      "metadata": {
        "colab": {
          "base_uri": "https://localhost:8080/"
        },
        "id": "yNIwHsTqnDzx",
        "outputId": "e33246a6-5117-4733-9765-3c072e037b45"
      },
      "source": [
        "num = 1\n",
        "for i in range(1,5):\n",
        "  num = num*(i+1)\n",
        "num\n"
      ],
      "execution_count": null,
      "outputs": [
        {
          "output_type": "execute_result",
          "data": {
            "text/plain": [
              "120"
            ]
          },
          "metadata": {
            "tags": []
          },
          "execution_count": 4
        }
      ]
    },
    {
      "cell_type": "code",
      "metadata": {
        "colab": {
          "base_uri": "https://localhost:8080/"
        },
        "id": "1hG-R17onp8T",
        "outputId": "c6797e8a-6b36-4e44-9dae-76f6a80ef025"
      },
      "source": [
        "txt = \"Hello World\" [::-1]\n",
        "print(txt)"
      ],
      "execution_count": null,
      "outputs": [
        {
          "output_type": "stream",
          "text": [
            "dlroW olleH\n"
          ],
          "name": "stdout"
        }
      ]
    },
    {
      "cell_type": "code",
      "metadata": {
        "id": "EsMrW6bio0ay"
      },
      "source": [
        "def f(n):\n",
        "  if n==1:\n",
        "    return 1\n",
        "\n",
        "  return n*f(n-1)\n",
        "  "
      ],
      "execution_count": null,
      "outputs": []
    },
    {
      "cell_type": "code",
      "metadata": {
        "colab": {
          "base_uri": "https://localhost:8080/"
        },
        "id": "266LVdLVQ6h4",
        "outputId": "c3f7d964-514a-471e-8cff-1d2d573ae71e"
      },
      "source": [
        "st = input()\n",
        "l = len(st)\n",
        "f(l)"
      ],
      "execution_count": null,
      "outputs": [
        {
          "output_type": "stream",
          "text": [
            "abc\n"
          ],
          "name": "stdout"
        },
        {
          "output_type": "execute_result",
          "data": {
            "text/plain": [
              "6"
            ]
          },
          "metadata": {
            "tags": []
          },
          "execution_count": 4
        }
      ]
    }
  ]
}