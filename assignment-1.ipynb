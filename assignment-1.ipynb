{
 "cells": [
  {
   "cell_type": "code",
   "execution_count": 1,
   "metadata": {},
   "outputs": [
    {
     "name": "stdout",
     "output_type": "stream",
     "text": [
      "what is your namepawan\n",
      "hello pawan\n"
     ]
    }
   ],
   "source": [
    "a = str(input(\"what is your name\"))\n",
    "print(\"hello\", a)\n"
   ]
  },
  {
   "cell_type": "code",
   "execution_count": 2,
   "metadata": {},
   "outputs": [
    {
     "name": "stdout",
     "output_type": "stream",
     "text": [
      "Balance in saving account1000\n",
      "1st year balance 1040.0\n",
      "2nd year balance 1081.6\n",
      "3rd year balance 1124.86\n"
     ]
    }
   ],
   "source": [
    "a = input(\"Balance in saving account\")\n",
    "b = float(a)*1.04\n",
    "c= b*1.04\n",
    "d = c*1.04\n",
    "print(\"1st year balance\", round(b, 2))\n",
    "print(\"2nd year balance\", round(c, 2))\n",
    "print(\"3rd year balance\", round(d, 2))\n"
   ]
  },
  {
   "cell_type": "code",
   "execution_count": 4,
   "metadata": {},
   "outputs": [
    {
     "name": "stdout",
     "output_type": "stream",
     "text": [
      "Balance in saving account1000\n",
      "1 year balance= 1040.0\n",
      "2 year balance= 1081.6\n",
      "3 year balance= 1124.86\n"
     ]
    }
   ],
   "source": [
    "a = input(\"Balance in saving account\")\n",
    "for i in range(3):\n",
    "    a = float(a)*1.04\n",
    "    print(i+1,\"year balance=\",round(a, 2))"
   ]
  },
  {
   "cell_type": "code",
   "execution_count": null,
   "metadata": {},
   "outputs": [],
   "source": []
  }
 ],
 "metadata": {
  "kernelspec": {
   "display_name": "Python 3",
   "language": "python",
   "name": "python3"
  },
  "language_info": {
   "codemirror_mode": {
    "name": "ipython",
    "version": 3
   },
   "file_extension": ".py",
   "mimetype": "text/x-python",
   "name": "python",
   "nbconvert_exporter": "python",
   "pygments_lexer": "ipython3",
   "version": "3.8.5"
  }
 },
 "nbformat": 4,
 "nbformat_minor": 4
}
